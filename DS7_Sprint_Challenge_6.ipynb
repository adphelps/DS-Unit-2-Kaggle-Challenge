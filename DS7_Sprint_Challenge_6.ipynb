{
 "cells": [
  {
   "cell_type": "markdown",
   "metadata": {
    "colab_type": "text",
    "id": "M3XH_XLsy_Bn"
   },
   "source": [
    "_Lambda School Data Science, Unit 2_\n",
    " \n",
    "# Sprint Challenge: Predict Steph Curry's shots 🏀\n",
    "\n",
    "For your Sprint Challenge, you'll use a dataset with all Steph Curry's NBA field goal attempts. (Regular season and playoff games, from October 28, 2009, through June 5, 2019.) \n",
    "\n",
    "You'll predict whether each shot was made, using information about the shot and the game. This is hard to predict! Try to get above 60% accuracy. The dataset was collected with the [nba_api](https://github.com/swar/nba_api) Python library."
   ]
  },
  {
   "cell_type": "code",
   "execution_count": 1,
   "metadata": {
    "colab": {},
    "colab_type": "code",
    "id": "Nw3CL7TE7tNq"
   },
   "outputs": [],
   "source": [
    "import sys\n",
    "in_colab = 'google.colab' in sys.modules\n",
    "\n",
    "if in_colab:\n",
    "    # Install packages in Colab\n",
    "    !pip install category_encoders==2.0.0\n",
    "    !pip install pandas-profiling==2.3.0\n",
    "    !pip install plotly==4.1.1"
   ]
  },
  {
   "cell_type": "code",
   "execution_count": 2,
   "metadata": {
    "colab": {},
    "colab_type": "code",
    "id": "-Nm24pCHy_Bo"
   },
   "outputs": [],
   "source": [
    "# Read data\n",
    "import pandas as pd\n",
    "url = 'https://drive.google.com/uc?export=download&id=1fL7KPyxgGYfQDsuJoBWHIWwCAf-HTFpX'\n",
    "df = pd.read_csv(url)\n",
    "\n",
    "# Check data shape\n",
    "assert df.shape == (13958, 20)"
   ]
  },
  {
   "cell_type": "markdown",
   "metadata": {
    "colab_type": "text",
    "id": "B8BvDKLFy_Bq"
   },
   "source": [
    "To demonstrate mastery on your Sprint Challenge, do all the required, numbered instructions in this notebook.\n",
    "\n",
    "To earn a score of \"3\", also do all the stretch goals.\n",
    "\n",
    "You are permitted and encouraged to do as much data exploration as you want.\n",
    "\n",
    "**1. Begin with baselines for classification.** Your target to predict is `shot_made_flag`. What is your baseline accuracy, if you guessed the majority class for every prediction?\n",
    "\n",
    "**2. Hold out your test set.** Use the 2018-19 season to test. NBA seasons begin in October and end in June. You'll know you've split the data correctly when your test set has 1,709 observations.\n",
    "\n",
    "**3. Engineer new feature.** Engineer at least **1** new feature, from this list, or your own idea.\n",
    "- **Homecourt Advantage**: Is the home team (`htm`) the Golden State Warriors (`GSW`) ?\n",
    "- **Opponent**: Who is the other team playing the Golden State Warriors?\n",
    "- **Seconds remaining in the period**: Combine minutes remaining with seconds remaining, to get the total number of seconds remaining in the period.\n",
    "- **Seconds remaining in the game**: Combine period, and seconds remaining in the period, to get the total number of seconds remaining in the game. A basketball game has 4 periods, each 12 minutes long.\n",
    "- **Made previous shot**: Was Steph Curry's previous shot successful?\n",
    "\n",
    "**4. Decide how to validate** your model. Choose one of the following options. Any of these options are good. You are not graded on which you choose.\n",
    "- **Train/validate/test split: train on the 2009-10 season through 2016-17 season, validate with the 2017-18 season.** You'll know you've split the data correctly when your train set has 11,081 observations, and your validation set has 1,168 observations.\n",
    "- **Train/validate/test split: random 80/20%** train/validate split.\n",
    "- **Cross-validation** with independent test set. You may use any scikit-learn cross-validation method.\n",
    "\n",
    "**5.** Use a scikit-learn **pipeline** to **encode categoricals** and fit a **Decision Tree** or **Random Forest** model.\n",
    "\n",
    "**6.** Get your model's **validation accuracy.** (Multiple times if you try multiple iterations.) \n",
    "\n",
    "**7.** Get your model's **test accuracy.** (One time, at the end.)\n",
    "\n",
    "\n",
    "**8.** Given a **confusion matrix** for a hypothetical binary classification model, **calculate accuracy, precision, and recall.**\n",
    "\n",
    "### Stretch Goals\n",
    "- Engineer 4+ new features total, either from the list above, or your own ideas.\n",
    "- Make 2+ visualizations to explore relationships between features and target.\n",
    "- Optimize 3+ hyperparameters by trying 10+ \"candidates\" (possible combinations of hyperparameters). You can use `RandomizedSearchCV` or do it manually.\n",
    "- Get and plot your model's feature importances.\n",
    "\n"
   ]
  },
  {
   "cell_type": "markdown",
   "metadata": {
    "colab_type": "text",
    "id": "t6Jt3qjQ-zig"
   },
   "source": [
    "## 1. Begin with baselines for classification. \n",
    "\n",
    ">Your target to predict is `shot_made_flag`. What would your baseline accuracy be, if you guessed the majority class for every prediction?"
   ]
  },
  {
   "cell_type": "code",
   "execution_count": 3,
   "metadata": {},
   "outputs": [],
   "source": [
    "import numpy as np\n",
    "import matplotlib.pyplot as plt\n",
    "%matplotlib inline\n",
    "import seaborn as sns\n",
    "from sklearn.model_selection import train_test_split\n",
    "from sklearn.preprocessing import StandardScaler\n",
    "from sklearn.ensemble import RandomForestClassifier\n",
    "from sklearn.pipeline import make_pipeline\n",
    "import category_encoders as ce\n",
    "from sklearn.model_selection import RandomizedSearchCV\n",
    "from scipy.stats import randint, uniform"
   ]
  },
  {
   "cell_type": "code",
   "execution_count": 4,
   "metadata": {
    "colab": {},
    "colab_type": "code",
    "id": "I0BDeNFG_Kee"
   },
   "outputs": [
    {
     "name": "stdout",
     "output_type": "stream",
     "text": [
      "Baseline Accuracy: 0.5270812437311936\n"
     ]
    }
   ],
   "source": [
    "# value_counts at [0] will return the most frequent value.\n",
    "print(f'Baseline Accuracy: {df.shot_made_flag.value_counts()[0] / len(df.shot_made_flag)}')"
   ]
  },
  {
   "cell_type": "markdown",
   "metadata": {
    "colab_type": "text",
    "id": "Dz2QHBiVy_Br"
   },
   "source": [
    "## 2. Hold out your test set.\n",
    "\n",
    ">Use the 2018-19 season to test. NBA seasons begin in October and end in June. You'll know you've split the data correctly when your test set has 1,709 observations."
   ]
  },
  {
   "cell_type": "code",
   "execution_count": 5,
   "metadata": {
    "colab": {},
    "colab_type": "code",
    "id": "OPod6lBG_wTT"
   },
   "outputs": [
    {
     "data": {
      "text/html": [
       "<div>\n",
       "<style scoped>\n",
       "    .dataframe tbody tr th:only-of-type {\n",
       "        vertical-align: middle;\n",
       "    }\n",
       "\n",
       "    .dataframe tbody tr th {\n",
       "        vertical-align: top;\n",
       "    }\n",
       "\n",
       "    .dataframe thead th {\n",
       "        text-align: right;\n",
       "    }\n",
       "</style>\n",
       "<table border=\"1\" class=\"dataframe\">\n",
       "  <thead>\n",
       "    <tr style=\"text-align: right;\">\n",
       "      <th></th>\n",
       "      <th>game_id</th>\n",
       "      <th>game_event_id</th>\n",
       "      <th>player_name</th>\n",
       "      <th>period</th>\n",
       "      <th>minutes_remaining</th>\n",
       "      <th>seconds_remaining</th>\n",
       "      <th>action_type</th>\n",
       "      <th>shot_type</th>\n",
       "      <th>shot_zone_basic</th>\n",
       "      <th>shot_zone_area</th>\n",
       "      <th>shot_zone_range</th>\n",
       "      <th>shot_distance</th>\n",
       "      <th>loc_x</th>\n",
       "      <th>loc_y</th>\n",
       "      <th>shot_made_flag</th>\n",
       "      <th>game_date</th>\n",
       "      <th>htm</th>\n",
       "      <th>vtm</th>\n",
       "      <th>season_type</th>\n",
       "      <th>scoremargin_before_shot</th>\n",
       "    </tr>\n",
       "  </thead>\n",
       "  <tbody>\n",
       "    <tr>\n",
       "      <th>0</th>\n",
       "      <td>20900015</td>\n",
       "      <td>4</td>\n",
       "      <td>Stephen Curry</td>\n",
       "      <td>1</td>\n",
       "      <td>11</td>\n",
       "      <td>25</td>\n",
       "      <td>Jump Shot</td>\n",
       "      <td>3PT Field Goal</td>\n",
       "      <td>Above the Break 3</td>\n",
       "      <td>Right Side Center(RC)</td>\n",
       "      <td>24+ ft.</td>\n",
       "      <td>26</td>\n",
       "      <td>99</td>\n",
       "      <td>249</td>\n",
       "      <td>0</td>\n",
       "      <td>2009-10-28</td>\n",
       "      <td>GSW</td>\n",
       "      <td>HOU</td>\n",
       "      <td>Regular Season</td>\n",
       "      <td>2.0</td>\n",
       "    </tr>\n",
       "    <tr>\n",
       "      <th>1</th>\n",
       "      <td>20900015</td>\n",
       "      <td>17</td>\n",
       "      <td>Stephen Curry</td>\n",
       "      <td>1</td>\n",
       "      <td>9</td>\n",
       "      <td>31</td>\n",
       "      <td>Step Back Jump shot</td>\n",
       "      <td>2PT Field Goal</td>\n",
       "      <td>Mid-Range</td>\n",
       "      <td>Left Side Center(LC)</td>\n",
       "      <td>16-24 ft.</td>\n",
       "      <td>18</td>\n",
       "      <td>-122</td>\n",
       "      <td>145</td>\n",
       "      <td>1</td>\n",
       "      <td>2009-10-28</td>\n",
       "      <td>GSW</td>\n",
       "      <td>HOU</td>\n",
       "      <td>Regular Season</td>\n",
       "      <td>0.0</td>\n",
       "    </tr>\n",
       "    <tr>\n",
       "      <th>2</th>\n",
       "      <td>20900015</td>\n",
       "      <td>53</td>\n",
       "      <td>Stephen Curry</td>\n",
       "      <td>1</td>\n",
       "      <td>6</td>\n",
       "      <td>2</td>\n",
       "      <td>Jump Shot</td>\n",
       "      <td>2PT Field Goal</td>\n",
       "      <td>In The Paint (Non-RA)</td>\n",
       "      <td>Center(C)</td>\n",
       "      <td>8-16 ft.</td>\n",
       "      <td>14</td>\n",
       "      <td>-60</td>\n",
       "      <td>129</td>\n",
       "      <td>0</td>\n",
       "      <td>2009-10-28</td>\n",
       "      <td>GSW</td>\n",
       "      <td>HOU</td>\n",
       "      <td>Regular Season</td>\n",
       "      <td>-4.0</td>\n",
       "    </tr>\n",
       "    <tr>\n",
       "      <th>3</th>\n",
       "      <td>20900015</td>\n",
       "      <td>141</td>\n",
       "      <td>Stephen Curry</td>\n",
       "      <td>2</td>\n",
       "      <td>9</td>\n",
       "      <td>49</td>\n",
       "      <td>Jump Shot</td>\n",
       "      <td>2PT Field Goal</td>\n",
       "      <td>Mid-Range</td>\n",
       "      <td>Left Side(L)</td>\n",
       "      <td>16-24 ft.</td>\n",
       "      <td>19</td>\n",
       "      <td>-172</td>\n",
       "      <td>82</td>\n",
       "      <td>0</td>\n",
       "      <td>2009-10-28</td>\n",
       "      <td>GSW</td>\n",
       "      <td>HOU</td>\n",
       "      <td>Regular Season</td>\n",
       "      <td>-4.0</td>\n",
       "    </tr>\n",
       "    <tr>\n",
       "      <th>4</th>\n",
       "      <td>20900015</td>\n",
       "      <td>249</td>\n",
       "      <td>Stephen Curry</td>\n",
       "      <td>2</td>\n",
       "      <td>2</td>\n",
       "      <td>19</td>\n",
       "      <td>Jump Shot</td>\n",
       "      <td>2PT Field Goal</td>\n",
       "      <td>Mid-Range</td>\n",
       "      <td>Left Side Center(LC)</td>\n",
       "      <td>16-24 ft.</td>\n",
       "      <td>16</td>\n",
       "      <td>-68</td>\n",
       "      <td>148</td>\n",
       "      <td>0</td>\n",
       "      <td>2009-10-28</td>\n",
       "      <td>GSW</td>\n",
       "      <td>HOU</td>\n",
       "      <td>Regular Season</td>\n",
       "      <td>0.0</td>\n",
       "    </tr>\n",
       "  </tbody>\n",
       "</table>\n",
       "</div>"
      ],
      "text/plain": [
       "    game_id  game_event_id    player_name  period  minutes_remaining  \\\n",
       "0  20900015              4  Stephen Curry       1                 11   \n",
       "1  20900015             17  Stephen Curry       1                  9   \n",
       "2  20900015             53  Stephen Curry       1                  6   \n",
       "3  20900015            141  Stephen Curry       2                  9   \n",
       "4  20900015            249  Stephen Curry       2                  2   \n",
       "\n",
       "   seconds_remaining          action_type       shot_type  \\\n",
       "0                 25            Jump Shot  3PT Field Goal   \n",
       "1                 31  Step Back Jump shot  2PT Field Goal   \n",
       "2                  2            Jump Shot  2PT Field Goal   \n",
       "3                 49            Jump Shot  2PT Field Goal   \n",
       "4                 19            Jump Shot  2PT Field Goal   \n",
       "\n",
       "         shot_zone_basic         shot_zone_area shot_zone_range  \\\n",
       "0      Above the Break 3  Right Side Center(RC)         24+ ft.   \n",
       "1              Mid-Range   Left Side Center(LC)       16-24 ft.   \n",
       "2  In The Paint (Non-RA)              Center(C)        8-16 ft.   \n",
       "3              Mid-Range           Left Side(L)       16-24 ft.   \n",
       "4              Mid-Range   Left Side Center(LC)       16-24 ft.   \n",
       "\n",
       "   shot_distance  loc_x  loc_y  shot_made_flag   game_date  htm  vtm  \\\n",
       "0             26     99    249               0  2009-10-28  GSW  HOU   \n",
       "1             18   -122    145               1  2009-10-28  GSW  HOU   \n",
       "2             14    -60    129               0  2009-10-28  GSW  HOU   \n",
       "3             19   -172     82               0  2009-10-28  GSW  HOU   \n",
       "4             16    -68    148               0  2009-10-28  GSW  HOU   \n",
       "\n",
       "      season_type  scoremargin_before_shot  \n",
       "0  Regular Season                      2.0  \n",
       "1  Regular Season                      0.0  \n",
       "2  Regular Season                     -4.0  \n",
       "3  Regular Season                     -4.0  \n",
       "4  Regular Season                      0.0  "
      ]
     },
     "execution_count": 5,
     "metadata": {},
     "output_type": "execute_result"
    }
   ],
   "source": [
    "df.head()"
   ]
  },
  {
   "cell_type": "code",
   "execution_count": 6,
   "metadata": {},
   "outputs": [
    {
     "data": {
      "text/plain": [
       "str"
      ]
     },
     "execution_count": 6,
     "metadata": {},
     "output_type": "execute_result"
    }
   ],
   "source": [
    "type(df.game_date[0])"
   ]
  },
  {
   "cell_type": "code",
   "execution_count": 7,
   "metadata": {},
   "outputs": [
    {
     "data": {
      "text/plain": [
       "pandas._libs.tslibs.timestamps.Timestamp"
      ]
     },
     "execution_count": 7,
     "metadata": {},
     "output_type": "execute_result"
    }
   ],
   "source": [
    "# no thank you. datetime please.\n",
    "df['game_date'] = pd.to_datetime(df['game_date'])\n",
    "type(df.game_date[0])"
   ]
  },
  {
   "cell_type": "code",
   "execution_count": 8,
   "metadata": {},
   "outputs": [
    {
     "name": "stdout",
     "output_type": "stream",
     "text": [
      "(12249, 20)\n",
      "(1709, 20)\n"
     ]
    }
   ],
   "source": [
    "start = '10/1/2018'\n",
    "train = df[df['game_date'] < start]\n",
    "test = df[df['game_date'] > start]\n",
    "print(train.shape)\n",
    "print(test.shape)"
   ]
  },
  {
   "cell_type": "markdown",
   "metadata": {
    "colab_type": "text",
    "id": "P9Nihzk6y_CF"
   },
   "source": [
    "## 3. Engineer new feature.\n",
    "\n",
    ">Engineer at least **1** new feature, from this list, or your own idea.\n",
    ">\n",
    ">- **Homecourt Advantage**: Is the home team (`htm`) the Golden State Warriors (`GSW`) ?\n",
    ">- **Opponent**: Who is the other team playing the Golden State Warriors?\n",
    ">- **Seconds remaining in the period**: Combine minutes remaining with seconds remaining, to get the total number of seconds remaining in the period.\n",
    ">- **Seconds remaining in the game**: Combine period, and seconds remaining in the period, to get the total number of seconds remaining in the game. A basketball game has 4 periods, each 12 minutes long.\n",
    ">- **Made previous shot**: Was Steph Curry's previous shot successful?\n",
    "\n",
    "    "
   ]
  },
  {
   "cell_type": "code",
   "execution_count": 9,
   "metadata": {
    "colab": {},
    "colab_type": "code",
    "id": "A0pxdFtWy_Bz"
   },
   "outputs": [
    {
     "data": {
      "text/plain": [
       "[1, 1, 1, 1, 1, 1, 1, 1, 1, 1, 1, 1, 0, 0, 0, 0, 0, 0, 0, 0]"
      ]
     },
     "execution_count": 9,
     "metadata": {},
     "output_type": "execute_result"
    }
   ],
   "source": [
    "homecourt_advantage = []\n",
    "for team in df.htm:\n",
    "    if team == 'GSW':\n",
    "        homecourt_advantage.append(1)\n",
    "    else:\n",
    "        homecourt_advantage.append(0)\n",
    "homecourt_advantage[:20]"
   ]
  },
  {
   "cell_type": "code",
   "execution_count": 10,
   "metadata": {},
   "outputs": [
    {
     "data": {
      "text/html": [
       "<div>\n",
       "<style scoped>\n",
       "    .dataframe tbody tr th:only-of-type {\n",
       "        vertical-align: middle;\n",
       "    }\n",
       "\n",
       "    .dataframe tbody tr th {\n",
       "        vertical-align: top;\n",
       "    }\n",
       "\n",
       "    .dataframe thead th {\n",
       "        text-align: right;\n",
       "    }\n",
       "</style>\n",
       "<table border=\"1\" class=\"dataframe\">\n",
       "  <thead>\n",
       "    <tr style=\"text-align: right;\">\n",
       "      <th></th>\n",
       "      <th>game_id</th>\n",
       "      <th>game_event_id</th>\n",
       "      <th>player_name</th>\n",
       "      <th>period</th>\n",
       "      <th>minutes_remaining</th>\n",
       "      <th>seconds_remaining</th>\n",
       "      <th>action_type</th>\n",
       "      <th>shot_type</th>\n",
       "      <th>shot_zone_basic</th>\n",
       "      <th>shot_zone_area</th>\n",
       "      <th>...</th>\n",
       "      <th>shot_distance</th>\n",
       "      <th>loc_x</th>\n",
       "      <th>loc_y</th>\n",
       "      <th>shot_made_flag</th>\n",
       "      <th>game_date</th>\n",
       "      <th>htm</th>\n",
       "      <th>vtm</th>\n",
       "      <th>season_type</th>\n",
       "      <th>scoremargin_before_shot</th>\n",
       "      <th>homecourt_advantage</th>\n",
       "    </tr>\n",
       "  </thead>\n",
       "  <tbody>\n",
       "    <tr>\n",
       "      <th>0</th>\n",
       "      <td>20900015</td>\n",
       "      <td>4</td>\n",
       "      <td>Stephen Curry</td>\n",
       "      <td>1</td>\n",
       "      <td>11</td>\n",
       "      <td>25</td>\n",
       "      <td>Jump Shot</td>\n",
       "      <td>3PT Field Goal</td>\n",
       "      <td>Above the Break 3</td>\n",
       "      <td>Right Side Center(RC)</td>\n",
       "      <td>...</td>\n",
       "      <td>26</td>\n",
       "      <td>99</td>\n",
       "      <td>249</td>\n",
       "      <td>0</td>\n",
       "      <td>2009-10-28</td>\n",
       "      <td>GSW</td>\n",
       "      <td>HOU</td>\n",
       "      <td>Regular Season</td>\n",
       "      <td>2.0</td>\n",
       "      <td>1</td>\n",
       "    </tr>\n",
       "    <tr>\n",
       "      <th>1</th>\n",
       "      <td>20900015</td>\n",
       "      <td>17</td>\n",
       "      <td>Stephen Curry</td>\n",
       "      <td>1</td>\n",
       "      <td>9</td>\n",
       "      <td>31</td>\n",
       "      <td>Step Back Jump shot</td>\n",
       "      <td>2PT Field Goal</td>\n",
       "      <td>Mid-Range</td>\n",
       "      <td>Left Side Center(LC)</td>\n",
       "      <td>...</td>\n",
       "      <td>18</td>\n",
       "      <td>-122</td>\n",
       "      <td>145</td>\n",
       "      <td>1</td>\n",
       "      <td>2009-10-28</td>\n",
       "      <td>GSW</td>\n",
       "      <td>HOU</td>\n",
       "      <td>Regular Season</td>\n",
       "      <td>0.0</td>\n",
       "      <td>1</td>\n",
       "    </tr>\n",
       "    <tr>\n",
       "      <th>2</th>\n",
       "      <td>20900015</td>\n",
       "      <td>53</td>\n",
       "      <td>Stephen Curry</td>\n",
       "      <td>1</td>\n",
       "      <td>6</td>\n",
       "      <td>2</td>\n",
       "      <td>Jump Shot</td>\n",
       "      <td>2PT Field Goal</td>\n",
       "      <td>In The Paint (Non-RA)</td>\n",
       "      <td>Center(C)</td>\n",
       "      <td>...</td>\n",
       "      <td>14</td>\n",
       "      <td>-60</td>\n",
       "      <td>129</td>\n",
       "      <td>0</td>\n",
       "      <td>2009-10-28</td>\n",
       "      <td>GSW</td>\n",
       "      <td>HOU</td>\n",
       "      <td>Regular Season</td>\n",
       "      <td>-4.0</td>\n",
       "      <td>1</td>\n",
       "    </tr>\n",
       "    <tr>\n",
       "      <th>3</th>\n",
       "      <td>20900015</td>\n",
       "      <td>141</td>\n",
       "      <td>Stephen Curry</td>\n",
       "      <td>2</td>\n",
       "      <td>9</td>\n",
       "      <td>49</td>\n",
       "      <td>Jump Shot</td>\n",
       "      <td>2PT Field Goal</td>\n",
       "      <td>Mid-Range</td>\n",
       "      <td>Left Side(L)</td>\n",
       "      <td>...</td>\n",
       "      <td>19</td>\n",
       "      <td>-172</td>\n",
       "      <td>82</td>\n",
       "      <td>0</td>\n",
       "      <td>2009-10-28</td>\n",
       "      <td>GSW</td>\n",
       "      <td>HOU</td>\n",
       "      <td>Regular Season</td>\n",
       "      <td>-4.0</td>\n",
       "      <td>1</td>\n",
       "    </tr>\n",
       "    <tr>\n",
       "      <th>4</th>\n",
       "      <td>20900015</td>\n",
       "      <td>249</td>\n",
       "      <td>Stephen Curry</td>\n",
       "      <td>2</td>\n",
       "      <td>2</td>\n",
       "      <td>19</td>\n",
       "      <td>Jump Shot</td>\n",
       "      <td>2PT Field Goal</td>\n",
       "      <td>Mid-Range</td>\n",
       "      <td>Left Side Center(LC)</td>\n",
       "      <td>...</td>\n",
       "      <td>16</td>\n",
       "      <td>-68</td>\n",
       "      <td>148</td>\n",
       "      <td>0</td>\n",
       "      <td>2009-10-28</td>\n",
       "      <td>GSW</td>\n",
       "      <td>HOU</td>\n",
       "      <td>Regular Season</td>\n",
       "      <td>0.0</td>\n",
       "      <td>1</td>\n",
       "    </tr>\n",
       "  </tbody>\n",
       "</table>\n",
       "<p>5 rows × 21 columns</p>\n",
       "</div>"
      ],
      "text/plain": [
       "    game_id  game_event_id    player_name  period  minutes_remaining  \\\n",
       "0  20900015              4  Stephen Curry       1                 11   \n",
       "1  20900015             17  Stephen Curry       1                  9   \n",
       "2  20900015             53  Stephen Curry       1                  6   \n",
       "3  20900015            141  Stephen Curry       2                  9   \n",
       "4  20900015            249  Stephen Curry       2                  2   \n",
       "\n",
       "   seconds_remaining          action_type       shot_type  \\\n",
       "0                 25            Jump Shot  3PT Field Goal   \n",
       "1                 31  Step Back Jump shot  2PT Field Goal   \n",
       "2                  2            Jump Shot  2PT Field Goal   \n",
       "3                 49            Jump Shot  2PT Field Goal   \n",
       "4                 19            Jump Shot  2PT Field Goal   \n",
       "\n",
       "         shot_zone_basic         shot_zone_area         ...           \\\n",
       "0      Above the Break 3  Right Side Center(RC)         ...            \n",
       "1              Mid-Range   Left Side Center(LC)         ...            \n",
       "2  In The Paint (Non-RA)              Center(C)         ...            \n",
       "3              Mid-Range           Left Side(L)         ...            \n",
       "4              Mid-Range   Left Side Center(LC)         ...            \n",
       "\n",
       "  shot_distance  loc_x  loc_y  shot_made_flag  game_date  htm  vtm  \\\n",
       "0            26     99    249               0 2009-10-28  GSW  HOU   \n",
       "1            18   -122    145               1 2009-10-28  GSW  HOU   \n",
       "2            14    -60    129               0 2009-10-28  GSW  HOU   \n",
       "3            19   -172     82               0 2009-10-28  GSW  HOU   \n",
       "4            16    -68    148               0 2009-10-28  GSW  HOU   \n",
       "\n",
       "      season_type scoremargin_before_shot  homecourt_advantage  \n",
       "0  Regular Season                     2.0                    1  \n",
       "1  Regular Season                     0.0                    1  \n",
       "2  Regular Season                    -4.0                    1  \n",
       "3  Regular Season                    -4.0                    1  \n",
       "4  Regular Season                     0.0                    1  \n",
       "\n",
       "[5 rows x 21 columns]"
      ]
     },
     "execution_count": 10,
     "metadata": {},
     "output_type": "execute_result"
    }
   ],
   "source": [
    "df['homecourt_advantage'] = homecourt_advantage\n",
    "df.head()"
   ]
  },
  {
   "cell_type": "markdown",
   "metadata": {
    "colab_type": "text",
    "id": "eLs7pt7NFJLF"
   },
   "source": [
    "## **4. Decide how to validate** your model. \n",
    "\n",
    ">Choose one of the following options. Any of these options are good. You are not graded on which you choose.\n",
    ">\n",
    ">- **Train/validate/test split: train on the 2009-10 season through 2016-17 season, validate with the 2017-18 season.** You'll know you've split the data correctly when your train set has 11,081 observations, and your validation set has 1,168 observations.\n",
    ">- **Train/validate/test split: random 80/20%** train/validate split.\n",
    ">- **Cross-validation** with independent test set. You may use any scikit-learn cross-validation method."
   ]
  },
  {
   "cell_type": "code",
   "execution_count": 11,
   "metadata": {
    "colab": {},
    "colab_type": "code",
    "id": "LJ58CceDISXR"
   },
   "outputs": [
    {
     "name": "stdout",
     "output_type": "stream",
     "text": [
      "(9799, 20)\n",
      "(2450, 20)\n"
     ]
    }
   ],
   "source": [
    "train, val = train_test_split(train, test_size=0.2, train_size=0.8, random_state=200)\n",
    "print(train.shape)\n",
    "print(val.shape)"
   ]
  },
  {
   "cell_type": "markdown",
   "metadata": {
    "colab_type": "text",
    "id": "oQ2lWlu7JPRt"
   },
   "source": [
    "## 5. Use a scikit-learn pipeline to encode categoricals and fit a Decision Tree or Random Forest model."
   ]
  },
  {
   "cell_type": "code",
   "execution_count": 12,
   "metadata": {},
   "outputs": [
    {
     "data": {
      "text/plain": [
       "game_id                    0\n",
       "game_event_id              0\n",
       "player_name                0\n",
       "period                     0\n",
       "minutes_remaining          0\n",
       "seconds_remaining          0\n",
       "action_type                0\n",
       "shot_type                  0\n",
       "shot_zone_basic            0\n",
       "shot_zone_area             0\n",
       "shot_zone_range            0\n",
       "shot_distance              0\n",
       "loc_x                      0\n",
       "loc_y                      0\n",
       "shot_made_flag             0\n",
       "game_date                  0\n",
       "htm                        0\n",
       "vtm                        0\n",
       "season_type                0\n",
       "scoremargin_before_shot    0\n",
       "homecourt_advantage        0\n",
       "dtype: int64"
      ]
     },
     "execution_count": 12,
     "metadata": {},
     "output_type": "execute_result"
    }
   ],
   "source": [
    "df.isna().sum()"
   ]
  },
  {
   "cell_type": "code",
   "execution_count": 13,
   "metadata": {
    "colab": {},
    "colab_type": "code",
    "id": "X2S8mUuJy_CB"
   },
   "outputs": [
    {
     "name": "stderr",
     "output_type": "stream",
     "text": [
      "C:\\Users\\redfo\\Anaconda3\\envs\\unit2\\lib\\site-packages\\ipykernel_launcher.py:7: SettingWithCopyWarning: \n",
      "A value is trying to be set on a copy of a slice from a DataFrame.\n",
      "Try using .loc[row_indexer,col_indexer] = value instead\n",
      "\n",
      "See the caveats in the documentation: http://pandas.pydata.org/pandas-docs/stable/indexing.html#indexing-view-versus-copy\n",
      "  import sys\n"
     ]
    }
   ],
   "source": [
    "# nothing needs to be imputed. moving on.\n",
    "target = 'shot_made_flag'\n",
    "\n",
    "# game date needs to be a string to work with the encoder\n",
    "train['game_date'] = train['game_date'].apply(lambda x: x.strftime('%Y-%m-%d'))\n",
    "val['game_date'] = val['game_date'].apply(lambda x: x.strftime('%Y-%m-%d'))\n",
    "test['game_date'] = test['game_date'].apply(lambda x: x.strftime('%Y-%m-%d'))\n",
    "\n",
    "X_train = train.drop(columns=target)\n",
    "y_train = train[target]\n",
    "X_val = val.drop(columns=target)\n",
    "y_val = val[target]\n",
    "X_test = test.drop(columns=target)\n",
    "y_test = test[target]"
   ]
  },
  {
   "cell_type": "code",
   "execution_count": 14,
   "metadata": {},
   "outputs": [
    {
     "name": "stderr",
     "output_type": "stream",
     "text": [
      "[Parallel(n_jobs=1)]: Using backend SequentialBackend with 1 concurrent workers.\n"
     ]
    },
    {
     "name": "stdout",
     "output_type": "stream",
     "text": [
      "Fitting 10 folds for each of 15 candidates, totalling 150 fits\n",
      "[CV] randomforestclassifier__max_depth=5, randomforestclassifier__max_features=0.5076805274756948, randomforestclassifier__min_samples_leaf=2, randomforestclassifier__min_samples_split=5, randomforestclassifier__n_estimators=104 \n",
      "[CV]  randomforestclassifier__max_depth=5, randomforestclassifier__max_features=0.5076805274756948, randomforestclassifier__min_samples_leaf=2, randomforestclassifier__min_samples_split=5, randomforestclassifier__n_estimators=104, score=(train=0.668, test=0.666), total=   1.7s\n",
      "[CV] randomforestclassifier__max_depth=5, randomforestclassifier__max_features=0.5076805274756948, randomforestclassifier__min_samples_leaf=2, randomforestclassifier__min_samples_split=5, randomforestclassifier__n_estimators=104 \n"
     ]
    },
    {
     "name": "stderr",
     "output_type": "stream",
     "text": [
      "[Parallel(n_jobs=1)]: Done   1 out of   1 | elapsed:    1.7s remaining:    0.0s\n"
     ]
    },
    {
     "name": "stdout",
     "output_type": "stream",
     "text": [
      "[CV]  randomforestclassifier__max_depth=5, randomforestclassifier__max_features=0.5076805274756948, randomforestclassifier__min_samples_leaf=2, randomforestclassifier__min_samples_split=5, randomforestclassifier__n_estimators=104, score=(train=0.676, test=0.660), total=   0.5s\n",
      "[CV] randomforestclassifier__max_depth=5, randomforestclassifier__max_features=0.5076805274756948, randomforestclassifier__min_samples_leaf=2, randomforestclassifier__min_samples_split=5, randomforestclassifier__n_estimators=104 \n"
     ]
    },
    {
     "name": "stderr",
     "output_type": "stream",
     "text": [
      "[Parallel(n_jobs=1)]: Done   2 out of   2 | elapsed:    2.3s remaining:    0.0s\n"
     ]
    },
    {
     "name": "stdout",
     "output_type": "stream",
     "text": [
      "[CV]  randomforestclassifier__max_depth=5, randomforestclassifier__max_features=0.5076805274756948, randomforestclassifier__min_samples_leaf=2, randomforestclassifier__min_samples_split=5, randomforestclassifier__n_estimators=104, score=(train=0.668, test=0.684), total=   0.5s\n",
      "[CV] randomforestclassifier__max_depth=5, randomforestclassifier__max_features=0.5076805274756948, randomforestclassifier__min_samples_leaf=2, randomforestclassifier__min_samples_split=5, randomforestclassifier__n_estimators=104 \n"
     ]
    },
    {
     "name": "stderr",
     "output_type": "stream",
     "text": [
      "[Parallel(n_jobs=1)]: Done   3 out of   3 | elapsed:    2.9s remaining:    0.0s\n"
     ]
    },
    {
     "name": "stdout",
     "output_type": "stream",
     "text": [
      "[CV]  randomforestclassifier__max_depth=5, randomforestclassifier__max_features=0.5076805274756948, randomforestclassifier__min_samples_leaf=2, randomforestclassifier__min_samples_split=5, randomforestclassifier__n_estimators=104, score=(train=0.677, test=0.634), total=   0.5s\n",
      "[CV] randomforestclassifier__max_depth=5, randomforestclassifier__max_features=0.5076805274756948, randomforestclassifier__min_samples_leaf=2, randomforestclassifier__min_samples_split=5, randomforestclassifier__n_estimators=104 \n"
     ]
    },
    {
     "name": "stderr",
     "output_type": "stream",
     "text": [
      "[Parallel(n_jobs=1)]: Done   4 out of   4 | elapsed:    3.5s remaining:    0.0s\n"
     ]
    },
    {
     "name": "stdout",
     "output_type": "stream",
     "text": [
      "[CV]  randomforestclassifier__max_depth=5, randomforestclassifier__max_features=0.5076805274756948, randomforestclassifier__min_samples_leaf=2, randomforestclassifier__min_samples_split=5, randomforestclassifier__n_estimators=104, score=(train=0.671, test=0.692), total=   0.5s\n",
      "[CV] randomforestclassifier__max_depth=5, randomforestclassifier__max_features=0.5076805274756948, randomforestclassifier__min_samples_leaf=2, randomforestclassifier__min_samples_split=5, randomforestclassifier__n_estimators=104 \n"
     ]
    },
    {
     "name": "stderr",
     "output_type": "stream",
     "text": [
      "[Parallel(n_jobs=1)]: Done   5 out of   5 | elapsed:    4.1s remaining:    0.0s\n"
     ]
    },
    {
     "name": "stdout",
     "output_type": "stream",
     "text": [
      "[CV]  randomforestclassifier__max_depth=5, randomforestclassifier__max_features=0.5076805274756948, randomforestclassifier__min_samples_leaf=2, randomforestclassifier__min_samples_split=5, randomforestclassifier__n_estimators=104, score=(train=0.673, test=0.660), total=   0.5s\n",
      "[CV] randomforestclassifier__max_depth=5, randomforestclassifier__max_features=0.5076805274756948, randomforestclassifier__min_samples_leaf=2, randomforestclassifier__min_samples_split=5, randomforestclassifier__n_estimators=104 \n"
     ]
    },
    {
     "name": "stderr",
     "output_type": "stream",
     "text": [
      "[Parallel(n_jobs=1)]: Done   6 out of   6 | elapsed:    4.7s remaining:    0.0s\n"
     ]
    },
    {
     "name": "stdout",
     "output_type": "stream",
     "text": [
      "[CV]  randomforestclassifier__max_depth=5, randomforestclassifier__max_features=0.5076805274756948, randomforestclassifier__min_samples_leaf=2, randomforestclassifier__min_samples_split=5, randomforestclassifier__n_estimators=104, score=(train=0.671, test=0.655), total=   0.5s\n",
      "[CV] randomforestclassifier__max_depth=5, randomforestclassifier__max_features=0.5076805274756948, randomforestclassifier__min_samples_leaf=2, randomforestclassifier__min_samples_split=5, randomforestclassifier__n_estimators=104 \n"
     ]
    },
    {
     "name": "stderr",
     "output_type": "stream",
     "text": [
      "[Parallel(n_jobs=1)]: Done   7 out of   7 | elapsed:    5.4s remaining:    0.0s\n"
     ]
    },
    {
     "name": "stdout",
     "output_type": "stream",
     "text": [
      "[CV]  randomforestclassifier__max_depth=5, randomforestclassifier__max_features=0.5076805274756948, randomforestclassifier__min_samples_leaf=2, randomforestclassifier__min_samples_split=5, randomforestclassifier__n_estimators=104, score=(train=0.670, test=0.662), total=   0.5s\n",
      "[CV] randomforestclassifier__max_depth=5, randomforestclassifier__max_features=0.5076805274756948, randomforestclassifier__min_samples_leaf=2, randomforestclassifier__min_samples_split=5, randomforestclassifier__n_estimators=104 \n"
     ]
    },
    {
     "name": "stderr",
     "output_type": "stream",
     "text": [
      "[Parallel(n_jobs=1)]: Done   8 out of   8 | elapsed:    6.0s remaining:    0.0s\n"
     ]
    },
    {
     "name": "stdout",
     "output_type": "stream",
     "text": [
      "[CV]  randomforestclassifier__max_depth=5, randomforestclassifier__max_features=0.5076805274756948, randomforestclassifier__min_samples_leaf=2, randomforestclassifier__min_samples_split=5, randomforestclassifier__n_estimators=104, score=(train=0.673, test=0.651), total=   0.4s\n",
      "[CV] randomforestclassifier__max_depth=5, randomforestclassifier__max_features=0.5076805274756948, randomforestclassifier__min_samples_leaf=2, randomforestclassifier__min_samples_split=5, randomforestclassifier__n_estimators=104 \n"
     ]
    },
    {
     "name": "stderr",
     "output_type": "stream",
     "text": [
      "[Parallel(n_jobs=1)]: Done   9 out of   9 | elapsed:    6.6s remaining:    0.0s\n"
     ]
    },
    {
     "name": "stdout",
     "output_type": "stream",
     "text": [
      "[CV]  randomforestclassifier__max_depth=5, randomforestclassifier__max_features=0.5076805274756948, randomforestclassifier__min_samples_leaf=2, randomforestclassifier__min_samples_split=5, randomforestclassifier__n_estimators=104, score=(train=0.670, test=0.662), total=   0.5s\n",
      "[CV] randomforestclassifier__max_depth=20, randomforestclassifier__max_features=0.21377250628988131, randomforestclassifier__min_samples_leaf=5, randomforestclassifier__min_samples_split=3, randomforestclassifier__n_estimators=38 \n",
      "[CV]  randomforestclassifier__max_depth=20, randomforestclassifier__max_features=0.21377250628988131, randomforestclassifier__min_samples_leaf=5, randomforestclassifier__min_samples_split=3, randomforestclassifier__n_estimators=38, score=(train=0.885, test=0.660), total=   0.5s\n",
      "[CV] randomforestclassifier__max_depth=20, randomforestclassifier__max_features=0.21377250628988131, randomforestclassifier__min_samples_leaf=5, randomforestclassifier__min_samples_split=3, randomforestclassifier__n_estimators=38 \n",
      "[CV]  randomforestclassifier__max_depth=20, randomforestclassifier__max_features=0.21377250628988131, randomforestclassifier__min_samples_leaf=5, randomforestclassifier__min_samples_split=3, randomforestclassifier__n_estimators=38, score=(train=0.886, test=0.652), total=   0.5s\n",
      "[CV] randomforestclassifier__max_depth=20, randomforestclassifier__max_features=0.21377250628988131, randomforestclassifier__min_samples_leaf=5, randomforestclassifier__min_samples_split=3, randomforestclassifier__n_estimators=38 \n",
      "[CV]  randomforestclassifier__max_depth=20, randomforestclassifier__max_features=0.21377250628988131, randomforestclassifier__min_samples_leaf=5, randomforestclassifier__min_samples_split=3, randomforestclassifier__n_estimators=38, score=(train=0.886, test=0.678), total=   0.5s\n",
      "[CV] randomforestclassifier__max_depth=20, randomforestclassifier__max_features=0.21377250628988131, randomforestclassifier__min_samples_leaf=5, randomforestclassifier__min_samples_split=3, randomforestclassifier__n_estimators=38 \n",
      "[CV]  randomforestclassifier__max_depth=20, randomforestclassifier__max_features=0.21377250628988131, randomforestclassifier__min_samples_leaf=5, randomforestclassifier__min_samples_split=3, randomforestclassifier__n_estimators=38, score=(train=0.876, test=0.641), total=   0.5s\n",
      "[CV] randomforestclassifier__max_depth=20, randomforestclassifier__max_features=0.21377250628988131, randomforestclassifier__min_samples_leaf=5, randomforestclassifier__min_samples_split=3, randomforestclassifier__n_estimators=38 \n",
      "[CV]  randomforestclassifier__max_depth=20, randomforestclassifier__max_features=0.21377250628988131, randomforestclassifier__min_samples_leaf=5, randomforestclassifier__min_samples_split=3, randomforestclassifier__n_estimators=38, score=(train=0.888, test=0.659), total=   0.5s\n",
      "[CV] randomforestclassifier__max_depth=20, randomforestclassifier__max_features=0.21377250628988131, randomforestclassifier__min_samples_leaf=5, randomforestclassifier__min_samples_split=3, randomforestclassifier__n_estimators=38 \n",
      "[CV]  randomforestclassifier__max_depth=20, randomforestclassifier__max_features=0.21377250628988131, randomforestclassifier__min_samples_leaf=5, randomforestclassifier__min_samples_split=3, randomforestclassifier__n_estimators=38, score=(train=0.881, test=0.644), total=   0.4s\n",
      "[CV] randomforestclassifier__max_depth=20, randomforestclassifier__max_features=0.21377250628988131, randomforestclassifier__min_samples_leaf=5, randomforestclassifier__min_samples_split=3, randomforestclassifier__n_estimators=38 \n",
      "[CV]  randomforestclassifier__max_depth=20, randomforestclassifier__max_features=0.21377250628988131, randomforestclassifier__min_samples_leaf=5, randomforestclassifier__min_samples_split=3, randomforestclassifier__n_estimators=38, score=(train=0.878, test=0.638), total=   0.5s\n",
      "[CV] randomforestclassifier__max_depth=20, randomforestclassifier__max_features=0.21377250628988131, randomforestclassifier__min_samples_leaf=5, randomforestclassifier__min_samples_split=3, randomforestclassifier__n_estimators=38 \n",
      "[CV]  randomforestclassifier__max_depth=20, randomforestclassifier__max_features=0.21377250628988131, randomforestclassifier__min_samples_leaf=5, randomforestclassifier__min_samples_split=3, randomforestclassifier__n_estimators=38, score=(train=0.883, test=0.645), total=   0.6s\n",
      "[CV] randomforestclassifier__max_depth=20, randomforestclassifier__max_features=0.21377250628988131, randomforestclassifier__min_samples_leaf=5, randomforestclassifier__min_samples_split=3, randomforestclassifier__n_estimators=38 \n",
      "[CV]  randomforestclassifier__max_depth=20, randomforestclassifier__max_features=0.21377250628988131, randomforestclassifier__min_samples_leaf=5, randomforestclassifier__min_samples_split=3, randomforestclassifier__n_estimators=38, score=(train=0.875, test=0.649), total=   0.5s\n",
      "[CV] randomforestclassifier__max_depth=20, randomforestclassifier__max_features=0.21377250628988131, randomforestclassifier__min_samples_leaf=5, randomforestclassifier__min_samples_split=3, randomforestclassifier__n_estimators=38 \n",
      "[CV]  randomforestclassifier__max_depth=20, randomforestclassifier__max_features=0.21377250628988131, randomforestclassifier__min_samples_leaf=5, randomforestclassifier__min_samples_split=3, randomforestclassifier__n_estimators=38, score=(train=0.878, test=0.671), total=   0.5s\n",
      "[CV] randomforestclassifier__max_depth=10, randomforestclassifier__max_features=0.8785678702506995, randomforestclassifier__min_samples_leaf=8, randomforestclassifier__min_samples_split=4, randomforestclassifier__n_estimators=105 \n",
      "[CV]  randomforestclassifier__max_depth=10, randomforestclassifier__max_features=0.8785678702506995, randomforestclassifier__min_samples_leaf=8, randomforestclassifier__min_samples_split=4, randomforestclassifier__n_estimators=105, score=(train=0.761, test=0.669), total=   1.0s\n",
      "[CV] randomforestclassifier__max_depth=10, randomforestclassifier__max_features=0.8785678702506995, randomforestclassifier__min_samples_leaf=8, randomforestclassifier__min_samples_split=4, randomforestclassifier__n_estimators=105 \n",
      "[CV]  randomforestclassifier__max_depth=10, randomforestclassifier__max_features=0.8785678702506995, randomforestclassifier__min_samples_leaf=8, randomforestclassifier__min_samples_split=4, randomforestclassifier__n_estimators=105, score=(train=0.756, test=0.649), total=   0.9s\n",
      "[CV] randomforestclassifier__max_depth=10, randomforestclassifier__max_features=0.8785678702506995, randomforestclassifier__min_samples_leaf=8, randomforestclassifier__min_samples_split=4, randomforestclassifier__n_estimators=105 \n",
      "[CV]  randomforestclassifier__max_depth=10, randomforestclassifier__max_features=0.8785678702506995, randomforestclassifier__min_samples_leaf=8, randomforestclassifier__min_samples_split=4, randomforestclassifier__n_estimators=105, score=(train=0.751, test=0.685), total=   0.9s\n",
      "[CV] randomforestclassifier__max_depth=10, randomforestclassifier__max_features=0.8785678702506995, randomforestclassifier__min_samples_leaf=8, randomforestclassifier__min_samples_split=4, randomforestclassifier__n_estimators=105 \n",
      "[CV]  randomforestclassifier__max_depth=10, randomforestclassifier__max_features=0.8785678702506995, randomforestclassifier__min_samples_leaf=8, randomforestclassifier__min_samples_split=4, randomforestclassifier__n_estimators=105, score=(train=0.754, test=0.635), total=   1.0s\n",
      "[CV] randomforestclassifier__max_depth=10, randomforestclassifier__max_features=0.8785678702506995, randomforestclassifier__min_samples_leaf=8, randomforestclassifier__min_samples_split=4, randomforestclassifier__n_estimators=105 \n",
      "[CV]  randomforestclassifier__max_depth=10, randomforestclassifier__max_features=0.8785678702506995, randomforestclassifier__min_samples_leaf=8, randomforestclassifier__min_samples_split=4, randomforestclassifier__n_estimators=105, score=(train=0.759, test=0.679), total=   0.9s\n",
      "[CV] randomforestclassifier__max_depth=10, randomforestclassifier__max_features=0.8785678702506995, randomforestclassifier__min_samples_leaf=8, randomforestclassifier__min_samples_split=4, randomforestclassifier__n_estimators=105 \n",
      "[CV]  randomforestclassifier__max_depth=10, randomforestclassifier__max_features=0.8785678702506995, randomforestclassifier__min_samples_leaf=8, randomforestclassifier__min_samples_split=4, randomforestclassifier__n_estimators=105, score=(train=0.757, test=0.652), total=   1.2s\n",
      "[CV] randomforestclassifier__max_depth=10, randomforestclassifier__max_features=0.8785678702506995, randomforestclassifier__min_samples_leaf=8, randomforestclassifier__min_samples_split=4, randomforestclassifier__n_estimators=105 \n"
     ]
    },
    {
     "name": "stdout",
     "output_type": "stream",
     "text": [
      "[CV]  randomforestclassifier__max_depth=10, randomforestclassifier__max_features=0.8785678702506995, randomforestclassifier__min_samples_leaf=8, randomforestclassifier__min_samples_split=4, randomforestclassifier__n_estimators=105, score=(train=0.753, test=0.662), total=   1.1s\n",
      "[CV] randomforestclassifier__max_depth=10, randomforestclassifier__max_features=0.8785678702506995, randomforestclassifier__min_samples_leaf=8, randomforestclassifier__min_samples_split=4, randomforestclassifier__n_estimators=105 \n",
      "[CV]  randomforestclassifier__max_depth=10, randomforestclassifier__max_features=0.8785678702506995, randomforestclassifier__min_samples_leaf=8, randomforestclassifier__min_samples_split=4, randomforestclassifier__n_estimators=105, score=(train=0.751, test=0.650), total=   1.0s\n",
      "[CV] randomforestclassifier__max_depth=10, randomforestclassifier__max_features=0.8785678702506995, randomforestclassifier__min_samples_leaf=8, randomforestclassifier__min_samples_split=4, randomforestclassifier__n_estimators=105 \n",
      "[CV]  randomforestclassifier__max_depth=10, randomforestclassifier__max_features=0.8785678702506995, randomforestclassifier__min_samples_leaf=8, randomforestclassifier__min_samples_split=4, randomforestclassifier__n_estimators=105, score=(train=0.753, test=0.666), total=   0.9s\n",
      "[CV] randomforestclassifier__max_depth=10, randomforestclassifier__max_features=0.8785678702506995, randomforestclassifier__min_samples_leaf=8, randomforestclassifier__min_samples_split=4, randomforestclassifier__n_estimators=105 \n",
      "[CV]  randomforestclassifier__max_depth=10, randomforestclassifier__max_features=0.8785678702506995, randomforestclassifier__min_samples_leaf=8, randomforestclassifier__min_samples_split=4, randomforestclassifier__n_estimators=105, score=(train=0.755, test=0.666), total=   1.0s\n",
      "[CV] randomforestclassifier__max_depth=10, randomforestclassifier__max_features=0.02753054547141054, randomforestclassifier__min_samples_leaf=7, randomforestclassifier__min_samples_split=6, randomforestclassifier__n_estimators=24 \n",
      "[CV]  randomforestclassifier__max_depth=10, randomforestclassifier__max_features=0.02753054547141054, randomforestclassifier__min_samples_leaf=7, randomforestclassifier__min_samples_split=6, randomforestclassifier__n_estimators=24, score=(train=0.715, test=0.630), total=   0.3s\n",
      "[CV] randomforestclassifier__max_depth=10, randomforestclassifier__max_features=0.02753054547141054, randomforestclassifier__min_samples_leaf=7, randomforestclassifier__min_samples_split=6, randomforestclassifier__n_estimators=24 \n",
      "[CV]  randomforestclassifier__max_depth=10, randomforestclassifier__max_features=0.02753054547141054, randomforestclassifier__min_samples_leaf=7, randomforestclassifier__min_samples_split=6, randomforestclassifier__n_estimators=24, score=(train=0.717, test=0.595), total=   0.3s\n",
      "[CV] randomforestclassifier__max_depth=10, randomforestclassifier__max_features=0.02753054547141054, randomforestclassifier__min_samples_leaf=7, randomforestclassifier__min_samples_split=6, randomforestclassifier__n_estimators=24 \n",
      "[CV]  randomforestclassifier__max_depth=10, randomforestclassifier__max_features=0.02753054547141054, randomforestclassifier__min_samples_leaf=7, randomforestclassifier__min_samples_split=6, randomforestclassifier__n_estimators=24, score=(train=0.717, test=0.643), total=   0.2s\n",
      "[CV] randomforestclassifier__max_depth=10, randomforestclassifier__max_features=0.02753054547141054, randomforestclassifier__min_samples_leaf=7, randomforestclassifier__min_samples_split=6, randomforestclassifier__n_estimators=24 \n",
      "[CV]  randomforestclassifier__max_depth=10, randomforestclassifier__max_features=0.02753054547141054, randomforestclassifier__min_samples_leaf=7, randomforestclassifier__min_samples_split=6, randomforestclassifier__n_estimators=24, score=(train=0.719, test=0.621), total=   0.3s\n",
      "[CV] randomforestclassifier__max_depth=10, randomforestclassifier__max_features=0.02753054547141054, randomforestclassifier__min_samples_leaf=7, randomforestclassifier__min_samples_split=6, randomforestclassifier__n_estimators=24 \n",
      "[CV]  randomforestclassifier__max_depth=10, randomforestclassifier__max_features=0.02753054547141054, randomforestclassifier__min_samples_leaf=7, randomforestclassifier__min_samples_split=6, randomforestclassifier__n_estimators=24, score=(train=0.712, test=0.620), total=   0.3s\n",
      "[CV] randomforestclassifier__max_depth=10, randomforestclassifier__max_features=0.02753054547141054, randomforestclassifier__min_samples_leaf=7, randomforestclassifier__min_samples_split=6, randomforestclassifier__n_estimators=24 \n",
      "[CV]  randomforestclassifier__max_depth=10, randomforestclassifier__max_features=0.02753054547141054, randomforestclassifier__min_samples_leaf=7, randomforestclassifier__min_samples_split=6, randomforestclassifier__n_estimators=24, score=(train=0.704, test=0.614), total=   0.3s\n",
      "[CV] randomforestclassifier__max_depth=10, randomforestclassifier__max_features=0.02753054547141054, randomforestclassifier__min_samples_leaf=7, randomforestclassifier__min_samples_split=6, randomforestclassifier__n_estimators=24 \n",
      "[CV]  randomforestclassifier__max_depth=10, randomforestclassifier__max_features=0.02753054547141054, randomforestclassifier__min_samples_leaf=7, randomforestclassifier__min_samples_split=6, randomforestclassifier__n_estimators=24, score=(train=0.705, test=0.595), total=   0.3s\n",
      "[CV] randomforestclassifier__max_depth=10, randomforestclassifier__max_features=0.02753054547141054, randomforestclassifier__min_samples_leaf=7, randomforestclassifier__min_samples_split=6, randomforestclassifier__n_estimators=24 \n",
      "[CV]  randomforestclassifier__max_depth=10, randomforestclassifier__max_features=0.02753054547141054, randomforestclassifier__min_samples_leaf=7, randomforestclassifier__min_samples_split=6, randomforestclassifier__n_estimators=24, score=(train=0.704, test=0.588), total=   0.2s\n",
      "[CV] randomforestclassifier__max_depth=10, randomforestclassifier__max_features=0.02753054547141054, randomforestclassifier__min_samples_leaf=7, randomforestclassifier__min_samples_split=6, randomforestclassifier__n_estimators=24 \n",
      "[CV]  randomforestclassifier__max_depth=10, randomforestclassifier__max_features=0.02753054547141054, randomforestclassifier__min_samples_leaf=7, randomforestclassifier__min_samples_split=6, randomforestclassifier__n_estimators=24, score=(train=0.703, test=0.598), total=   0.3s\n",
      "[CV] randomforestclassifier__max_depth=10, randomforestclassifier__max_features=0.02753054547141054, randomforestclassifier__min_samples_leaf=7, randomforestclassifier__min_samples_split=6, randomforestclassifier__n_estimators=24 \n",
      "[CV]  randomforestclassifier__max_depth=10, randomforestclassifier__max_features=0.02753054547141054, randomforestclassifier__min_samples_leaf=7, randomforestclassifier__min_samples_split=6, randomforestclassifier__n_estimators=24, score=(train=0.707, test=0.624), total=   0.3s\n",
      "[CV] randomforestclassifier__max_depth=15, randomforestclassifier__max_features=0.34216337004055164, randomforestclassifier__min_samples_leaf=7, randomforestclassifier__min_samples_split=9, randomforestclassifier__n_estimators=86 \n",
      "[CV]  randomforestclassifier__max_depth=15, randomforestclassifier__max_features=0.34216337004055164, randomforestclassifier__min_samples_leaf=7, randomforestclassifier__min_samples_split=9, randomforestclassifier__n_estimators=86, score=(train=0.815, test=0.671), total=   0.6s\n",
      "[CV] randomforestclassifier__max_depth=15, randomforestclassifier__max_features=0.34216337004055164, randomforestclassifier__min_samples_leaf=7, randomforestclassifier__min_samples_split=9, randomforestclassifier__n_estimators=86 \n",
      "[CV]  randomforestclassifier__max_depth=15, randomforestclassifier__max_features=0.34216337004055164, randomforestclassifier__min_samples_leaf=7, randomforestclassifier__min_samples_split=9, randomforestclassifier__n_estimators=86, score=(train=0.823, test=0.652), total=   0.7s\n",
      "[CV] randomforestclassifier__max_depth=15, randomforestclassifier__max_features=0.34216337004055164, randomforestclassifier__min_samples_leaf=7, randomforestclassifier__min_samples_split=9, randomforestclassifier__n_estimators=86 \n",
      "[CV]  randomforestclassifier__max_depth=15, randomforestclassifier__max_features=0.34216337004055164, randomforestclassifier__min_samples_leaf=7, randomforestclassifier__min_samples_split=9, randomforestclassifier__n_estimators=86, score=(train=0.808, test=0.682), total=   0.9s\n",
      "[CV] randomforestclassifier__max_depth=15, randomforestclassifier__max_features=0.34216337004055164, randomforestclassifier__min_samples_leaf=7, randomforestclassifier__min_samples_split=9, randomforestclassifier__n_estimators=86 \n"
     ]
    },
    {
     "name": "stdout",
     "output_type": "stream",
     "text": [
      "[CV]  randomforestclassifier__max_depth=15, randomforestclassifier__max_features=0.34216337004055164, randomforestclassifier__min_samples_leaf=7, randomforestclassifier__min_samples_split=9, randomforestclassifier__n_estimators=86, score=(train=0.811, test=0.637), total=   0.8s\n",
      "[CV] randomforestclassifier__max_depth=15, randomforestclassifier__max_features=0.34216337004055164, randomforestclassifier__min_samples_leaf=7, randomforestclassifier__min_samples_split=9, randomforestclassifier__n_estimators=86 \n",
      "[CV]  randomforestclassifier__max_depth=15, randomforestclassifier__max_features=0.34216337004055164, randomforestclassifier__min_samples_leaf=7, randomforestclassifier__min_samples_split=9, randomforestclassifier__n_estimators=86, score=(train=0.817, test=0.677), total=   0.6s\n",
      "[CV] randomforestclassifier__max_depth=15, randomforestclassifier__max_features=0.34216337004055164, randomforestclassifier__min_samples_leaf=7, randomforestclassifier__min_samples_split=9, randomforestclassifier__n_estimators=86 \n",
      "[CV]  randomforestclassifier__max_depth=15, randomforestclassifier__max_features=0.34216337004055164, randomforestclassifier__min_samples_leaf=7, randomforestclassifier__min_samples_split=9, randomforestclassifier__n_estimators=86, score=(train=0.813, test=0.650), total=   0.6s\n",
      "[CV] randomforestclassifier__max_depth=15, randomforestclassifier__max_features=0.34216337004055164, randomforestclassifier__min_samples_leaf=7, randomforestclassifier__min_samples_split=9, randomforestclassifier__n_estimators=86 \n",
      "[CV]  randomforestclassifier__max_depth=15, randomforestclassifier__max_features=0.34216337004055164, randomforestclassifier__min_samples_leaf=7, randomforestclassifier__min_samples_split=9, randomforestclassifier__n_estimators=86, score=(train=0.813, test=0.649), total=   0.6s\n",
      "[CV] randomforestclassifier__max_depth=15, randomforestclassifier__max_features=0.34216337004055164, randomforestclassifier__min_samples_leaf=7, randomforestclassifier__min_samples_split=9, randomforestclassifier__n_estimators=86 \n",
      "[CV]  randomforestclassifier__max_depth=15, randomforestclassifier__max_features=0.34216337004055164, randomforestclassifier__min_samples_leaf=7, randomforestclassifier__min_samples_split=9, randomforestclassifier__n_estimators=86, score=(train=0.815, test=0.647), total=   0.6s\n",
      "[CV] randomforestclassifier__max_depth=15, randomforestclassifier__max_features=0.34216337004055164, randomforestclassifier__min_samples_leaf=7, randomforestclassifier__min_samples_split=9, randomforestclassifier__n_estimators=86 \n",
      "[CV]  randomforestclassifier__max_depth=15, randomforestclassifier__max_features=0.34216337004055164, randomforestclassifier__min_samples_leaf=7, randomforestclassifier__min_samples_split=9, randomforestclassifier__n_estimators=86, score=(train=0.809, test=0.668), total=   0.6s\n",
      "[CV] randomforestclassifier__max_depth=15, randomforestclassifier__max_features=0.34216337004055164, randomforestclassifier__min_samples_leaf=7, randomforestclassifier__min_samples_split=9, randomforestclassifier__n_estimators=86 \n",
      "[CV]  randomforestclassifier__max_depth=15, randomforestclassifier__max_features=0.34216337004055164, randomforestclassifier__min_samples_leaf=7, randomforestclassifier__min_samples_split=9, randomforestclassifier__n_estimators=86, score=(train=0.806, test=0.669), total=   0.5s\n",
      "[CV] randomforestclassifier__max_depth=15, randomforestclassifier__max_features=0.35384167350645424, randomforestclassifier__min_samples_leaf=6, randomforestclassifier__min_samples_split=2, randomforestclassifier__n_estimators=56 \n",
      "[CV]  randomforestclassifier__max_depth=15, randomforestclassifier__max_features=0.35384167350645424, randomforestclassifier__min_samples_leaf=6, randomforestclassifier__min_samples_split=2, randomforestclassifier__n_estimators=56, score=(train=0.834, test=0.656), total=   0.5s\n",
      "[CV] randomforestclassifier__max_depth=15, randomforestclassifier__max_features=0.35384167350645424, randomforestclassifier__min_samples_leaf=6, randomforestclassifier__min_samples_split=2, randomforestclassifier__n_estimators=56 \n",
      "[CV]  randomforestclassifier__max_depth=15, randomforestclassifier__max_features=0.35384167350645424, randomforestclassifier__min_samples_leaf=6, randomforestclassifier__min_samples_split=2, randomforestclassifier__n_estimators=56, score=(train=0.834, test=0.659), total=   0.5s\n",
      "[CV] randomforestclassifier__max_depth=15, randomforestclassifier__max_features=0.35384167350645424, randomforestclassifier__min_samples_leaf=6, randomforestclassifier__min_samples_split=2, randomforestclassifier__n_estimators=56 \n",
      "[CV]  randomforestclassifier__max_depth=15, randomforestclassifier__max_features=0.35384167350645424, randomforestclassifier__min_samples_leaf=6, randomforestclassifier__min_samples_split=2, randomforestclassifier__n_estimators=56, score=(train=0.823, test=0.687), total=   0.5s\n",
      "[CV] randomforestclassifier__max_depth=15, randomforestclassifier__max_features=0.35384167350645424, randomforestclassifier__min_samples_leaf=6, randomforestclassifier__min_samples_split=2, randomforestclassifier__n_estimators=56 \n",
      "[CV]  randomforestclassifier__max_depth=15, randomforestclassifier__max_features=0.35384167350645424, randomforestclassifier__min_samples_leaf=6, randomforestclassifier__min_samples_split=2, randomforestclassifier__n_estimators=56, score=(train=0.823, test=0.643), total=   0.5s\n",
      "[CV] randomforestclassifier__max_depth=15, randomforestclassifier__max_features=0.35384167350645424, randomforestclassifier__min_samples_leaf=6, randomforestclassifier__min_samples_split=2, randomforestclassifier__n_estimators=56 \n",
      "[CV]  randomforestclassifier__max_depth=15, randomforestclassifier__max_features=0.35384167350645424, randomforestclassifier__min_samples_leaf=6, randomforestclassifier__min_samples_split=2, randomforestclassifier__n_estimators=56, score=(train=0.836, test=0.683), total=   0.5s\n",
      "[CV] randomforestclassifier__max_depth=15, randomforestclassifier__max_features=0.35384167350645424, randomforestclassifier__min_samples_leaf=6, randomforestclassifier__min_samples_split=2, randomforestclassifier__n_estimators=56 \n",
      "[CV]  randomforestclassifier__max_depth=15, randomforestclassifier__max_features=0.35384167350645424, randomforestclassifier__min_samples_leaf=6, randomforestclassifier__min_samples_split=2, randomforestclassifier__n_estimators=56, score=(train=0.823, test=0.651), total=   0.5s\n",
      "[CV] randomforestclassifier__max_depth=15, randomforestclassifier__max_features=0.35384167350645424, randomforestclassifier__min_samples_leaf=6, randomforestclassifier__min_samples_split=2, randomforestclassifier__n_estimators=56 \n",
      "[CV]  randomforestclassifier__max_depth=15, randomforestclassifier__max_features=0.35384167350645424, randomforestclassifier__min_samples_leaf=6, randomforestclassifier__min_samples_split=2, randomforestclassifier__n_estimators=56, score=(train=0.814, test=0.644), total=   0.5s\n",
      "[CV] randomforestclassifier__max_depth=15, randomforestclassifier__max_features=0.35384167350645424, randomforestclassifier__min_samples_leaf=6, randomforestclassifier__min_samples_split=2, randomforestclassifier__n_estimators=56 \n",
      "[CV]  randomforestclassifier__max_depth=15, randomforestclassifier__max_features=0.35384167350645424, randomforestclassifier__min_samples_leaf=6, randomforestclassifier__min_samples_split=2, randomforestclassifier__n_estimators=56, score=(train=0.828, test=0.644), total=   0.5s\n",
      "[CV] randomforestclassifier__max_depth=15, randomforestclassifier__max_features=0.35384167350645424, randomforestclassifier__min_samples_leaf=6, randomforestclassifier__min_samples_split=2, randomforestclassifier__n_estimators=56 \n",
      "[CV]  randomforestclassifier__max_depth=15, randomforestclassifier__max_features=0.35384167350645424, randomforestclassifier__min_samples_leaf=6, randomforestclassifier__min_samples_split=2, randomforestclassifier__n_estimators=56, score=(train=0.827, test=0.662), total=   0.5s\n",
      "[CV] randomforestclassifier__max_depth=15, randomforestclassifier__max_features=0.35384167350645424, randomforestclassifier__min_samples_leaf=6, randomforestclassifier__min_samples_split=2, randomforestclassifier__n_estimators=56 \n",
      "[CV]  randomforestclassifier__max_depth=15, randomforestclassifier__max_features=0.35384167350645424, randomforestclassifier__min_samples_leaf=6, randomforestclassifier__min_samples_split=2, randomforestclassifier__n_estimators=56, score=(train=0.828, test=0.662), total=   0.5s\n",
      "[CV] randomforestclassifier__max_depth=None, randomforestclassifier__max_features=0.05375956642735891, randomforestclassifier__min_samples_leaf=6, randomforestclassifier__min_samples_split=7, randomforestclassifier__n_estimators=238 \n"
     ]
    },
    {
     "name": "stdout",
     "output_type": "stream",
     "text": [
      "[CV]  randomforestclassifier__max_depth=None, randomforestclassifier__max_features=0.05375956642735891, randomforestclassifier__min_samples_leaf=6, randomforestclassifier__min_samples_split=7, randomforestclassifier__n_estimators=238, score=(train=0.836, test=0.656), total=   0.7s\n",
      "[CV] randomforestclassifier__max_depth=None, randomforestclassifier__max_features=0.05375956642735891, randomforestclassifier__min_samples_leaf=6, randomforestclassifier__min_samples_split=7, randomforestclassifier__n_estimators=238 \n",
      "[CV]  randomforestclassifier__max_depth=None, randomforestclassifier__max_features=0.05375956642735891, randomforestclassifier__min_samples_leaf=6, randomforestclassifier__min_samples_split=7, randomforestclassifier__n_estimators=238, score=(train=0.860, test=0.628), total=   0.8s\n",
      "[CV] randomforestclassifier__max_depth=None, randomforestclassifier__max_features=0.05375956642735891, randomforestclassifier__min_samples_leaf=6, randomforestclassifier__min_samples_split=7, randomforestclassifier__n_estimators=238 \n",
      "[CV]  randomforestclassifier__max_depth=None, randomforestclassifier__max_features=0.05375956642735891, randomforestclassifier__min_samples_leaf=6, randomforestclassifier__min_samples_split=7, randomforestclassifier__n_estimators=238, score=(train=0.861, test=0.666), total=   0.7s\n",
      "[CV] randomforestclassifier__max_depth=None, randomforestclassifier__max_features=0.05375956642735891, randomforestclassifier__min_samples_leaf=6, randomforestclassifier__min_samples_split=7, randomforestclassifier__n_estimators=238 \n",
      "[CV]  randomforestclassifier__max_depth=None, randomforestclassifier__max_features=0.05375956642735891, randomforestclassifier__min_samples_leaf=6, randomforestclassifier__min_samples_split=7, randomforestclassifier__n_estimators=238, score=(train=0.863, test=0.620), total=   0.7s\n",
      "[CV] randomforestclassifier__max_depth=None, randomforestclassifier__max_features=0.05375956642735891, randomforestclassifier__min_samples_leaf=6, randomforestclassifier__min_samples_split=7, randomforestclassifier__n_estimators=238 \n",
      "[CV]  randomforestclassifier__max_depth=None, randomforestclassifier__max_features=0.05375956642735891, randomforestclassifier__min_samples_leaf=6, randomforestclassifier__min_samples_split=7, randomforestclassifier__n_estimators=238, score=(train=0.865, test=0.649), total=   0.8s\n",
      "[CV] randomforestclassifier__max_depth=None, randomforestclassifier__max_features=0.05375956642735891, randomforestclassifier__min_samples_leaf=6, randomforestclassifier__min_samples_split=7, randomforestclassifier__n_estimators=238 \n",
      "[CV]  randomforestclassifier__max_depth=None, randomforestclassifier__max_features=0.05375956642735891, randomforestclassifier__min_samples_leaf=6, randomforestclassifier__min_samples_split=7, randomforestclassifier__n_estimators=238, score=(train=0.857, test=0.624), total=   0.7s\n",
      "[CV] randomforestclassifier__max_depth=None, randomforestclassifier__max_features=0.05375956642735891, randomforestclassifier__min_samples_leaf=6, randomforestclassifier__min_samples_split=7, randomforestclassifier__n_estimators=238 \n",
      "[CV]  randomforestclassifier__max_depth=None, randomforestclassifier__max_features=0.05375956642735891, randomforestclassifier__min_samples_leaf=6, randomforestclassifier__min_samples_split=7, randomforestclassifier__n_estimators=238, score=(train=0.857, test=0.606), total=   0.6s\n",
      "[CV] randomforestclassifier__max_depth=None, randomforestclassifier__max_features=0.05375956642735891, randomforestclassifier__min_samples_leaf=6, randomforestclassifier__min_samples_split=7, randomforestclassifier__n_estimators=238 \n",
      "[CV]  randomforestclassifier__max_depth=None, randomforestclassifier__max_features=0.05375956642735891, randomforestclassifier__min_samples_leaf=6, randomforestclassifier__min_samples_split=7, randomforestclassifier__n_estimators=238, score=(train=0.862, test=0.628), total=   0.7s\n",
      "[CV] randomforestclassifier__max_depth=None, randomforestclassifier__max_features=0.05375956642735891, randomforestclassifier__min_samples_leaf=6, randomforestclassifier__min_samples_split=7, randomforestclassifier__n_estimators=238 \n",
      "[CV]  randomforestclassifier__max_depth=None, randomforestclassifier__max_features=0.05375956642735891, randomforestclassifier__min_samples_leaf=6, randomforestclassifier__min_samples_split=7, randomforestclassifier__n_estimators=238, score=(train=0.859, test=0.624), total=   0.8s\n",
      "[CV] randomforestclassifier__max_depth=None, randomforestclassifier__max_features=0.05375956642735891, randomforestclassifier__min_samples_leaf=6, randomforestclassifier__min_samples_split=7, randomforestclassifier__n_estimators=238 \n",
      "[CV]  randomforestclassifier__max_depth=None, randomforestclassifier__max_features=0.05375956642735891, randomforestclassifier__min_samples_leaf=6, randomforestclassifier__min_samples_split=7, randomforestclassifier__n_estimators=238, score=(train=0.859, test=0.621), total=   0.7s\n",
      "[CV] randomforestclassifier__max_depth=20, randomforestclassifier__max_features=0.21343783342520295, randomforestclassifier__min_samples_leaf=6, randomforestclassifier__min_samples_split=4, randomforestclassifier__n_estimators=108 \n",
      "[CV]  randomforestclassifier__max_depth=20, randomforestclassifier__max_features=0.21343783342520295, randomforestclassifier__min_samples_leaf=6, randomforestclassifier__min_samples_split=4, randomforestclassifier__n_estimators=108, score=(train=0.865, test=0.668), total=   0.6s\n",
      "[CV] randomforestclassifier__max_depth=20, randomforestclassifier__max_features=0.21343783342520295, randomforestclassifier__min_samples_leaf=6, randomforestclassifier__min_samples_split=4, randomforestclassifier__n_estimators=108 \n",
      "[CV]  randomforestclassifier__max_depth=20, randomforestclassifier__max_features=0.21343783342520295, randomforestclassifier__min_samples_leaf=6, randomforestclassifier__min_samples_split=4, randomforestclassifier__n_estimators=108, score=(train=0.868, test=0.652), total=   0.7s\n",
      "[CV] randomforestclassifier__max_depth=20, randomforestclassifier__max_features=0.21343783342520295, randomforestclassifier__min_samples_leaf=6, randomforestclassifier__min_samples_split=4, randomforestclassifier__n_estimators=108 \n",
      "[CV]  randomforestclassifier__max_depth=20, randomforestclassifier__max_features=0.21343783342520295, randomforestclassifier__min_samples_leaf=6, randomforestclassifier__min_samples_split=4, randomforestclassifier__n_estimators=108, score=(train=0.866, test=0.679), total=   0.7s\n",
      "[CV] randomforestclassifier__max_depth=20, randomforestclassifier__max_features=0.21343783342520295, randomforestclassifier__min_samples_leaf=6, randomforestclassifier__min_samples_split=4, randomforestclassifier__n_estimators=108 \n",
      "[CV]  randomforestclassifier__max_depth=20, randomforestclassifier__max_features=0.21343783342520295, randomforestclassifier__min_samples_leaf=6, randomforestclassifier__min_samples_split=4, randomforestclassifier__n_estimators=108, score=(train=0.860, test=0.633), total=   0.6s\n",
      "[CV] randomforestclassifier__max_depth=20, randomforestclassifier__max_features=0.21343783342520295, randomforestclassifier__min_samples_leaf=6, randomforestclassifier__min_samples_split=4, randomforestclassifier__n_estimators=108 \n",
      "[CV]  randomforestclassifier__max_depth=20, randomforestclassifier__max_features=0.21343783342520295, randomforestclassifier__min_samples_leaf=6, randomforestclassifier__min_samples_split=4, randomforestclassifier__n_estimators=108, score=(train=0.874, test=0.681), total=   0.6s\n",
      "[CV] randomforestclassifier__max_depth=20, randomforestclassifier__max_features=0.21343783342520295, randomforestclassifier__min_samples_leaf=6, randomforestclassifier__min_samples_split=4, randomforestclassifier__n_estimators=108 \n",
      "[CV]  randomforestclassifier__max_depth=20, randomforestclassifier__max_features=0.21343783342520295, randomforestclassifier__min_samples_leaf=6, randomforestclassifier__min_samples_split=4, randomforestclassifier__n_estimators=108, score=(train=0.864, test=0.643), total=   0.7s\n",
      "[CV] randomforestclassifier__max_depth=20, randomforestclassifier__max_features=0.21343783342520295, randomforestclassifier__min_samples_leaf=6, randomforestclassifier__min_samples_split=4, randomforestclassifier__n_estimators=108 \n"
     ]
    },
    {
     "name": "stdout",
     "output_type": "stream",
     "text": [
      "[CV]  randomforestclassifier__max_depth=20, randomforestclassifier__max_features=0.21343783342520295, randomforestclassifier__min_samples_leaf=6, randomforestclassifier__min_samples_split=4, randomforestclassifier__n_estimators=108, score=(train=0.864, test=0.638), total=   0.6s\n",
      "[CV] randomforestclassifier__max_depth=20, randomforestclassifier__max_features=0.21343783342520295, randomforestclassifier__min_samples_leaf=6, randomforestclassifier__min_samples_split=4, randomforestclassifier__n_estimators=108 \n",
      "[CV]  randomforestclassifier__max_depth=20, randomforestclassifier__max_features=0.21343783342520295, randomforestclassifier__min_samples_leaf=6, randomforestclassifier__min_samples_split=4, randomforestclassifier__n_estimators=108, score=(train=0.870, test=0.630), total=   0.6s\n",
      "[CV] randomforestclassifier__max_depth=20, randomforestclassifier__max_features=0.21343783342520295, randomforestclassifier__min_samples_leaf=6, randomforestclassifier__min_samples_split=4, randomforestclassifier__n_estimators=108 \n",
      "[CV]  randomforestclassifier__max_depth=20, randomforestclassifier__max_features=0.21343783342520295, randomforestclassifier__min_samples_leaf=6, randomforestclassifier__min_samples_split=4, randomforestclassifier__n_estimators=108, score=(train=0.865, test=0.653), total=   0.5s\n",
      "[CV] randomforestclassifier__max_depth=20, randomforestclassifier__max_features=0.21343783342520295, randomforestclassifier__min_samples_leaf=6, randomforestclassifier__min_samples_split=4, randomforestclassifier__n_estimators=108 \n",
      "[CV]  randomforestclassifier__max_depth=20, randomforestclassifier__max_features=0.21343783342520295, randomforestclassifier__min_samples_leaf=6, randomforestclassifier__min_samples_split=4, randomforestclassifier__n_estimators=108, score=(train=0.860, test=0.664), total=   0.5s\n",
      "[CV] randomforestclassifier__max_depth=5, randomforestclassifier__max_features=0.5868925178746363, randomforestclassifier__min_samples_leaf=7, randomforestclassifier__min_samples_split=3, randomforestclassifier__n_estimators=84 \n",
      "[CV]  randomforestclassifier__max_depth=5, randomforestclassifier__max_features=0.5868925178746363, randomforestclassifier__min_samples_leaf=7, randomforestclassifier__min_samples_split=3, randomforestclassifier__n_estimators=84, score=(train=0.668, test=0.668), total=   0.4s\n",
      "[CV] randomforestclassifier__max_depth=5, randomforestclassifier__max_features=0.5868925178746363, randomforestclassifier__min_samples_leaf=7, randomforestclassifier__min_samples_split=3, randomforestclassifier__n_estimators=84 \n",
      "[CV]  randomforestclassifier__max_depth=5, randomforestclassifier__max_features=0.5868925178746363, randomforestclassifier__min_samples_leaf=7, randomforestclassifier__min_samples_split=3, randomforestclassifier__n_estimators=84, score=(train=0.671, test=0.652), total=   0.4s\n",
      "[CV] randomforestclassifier__max_depth=5, randomforestclassifier__max_features=0.5868925178746363, randomforestclassifier__min_samples_leaf=7, randomforestclassifier__min_samples_split=3, randomforestclassifier__n_estimators=84 \n",
      "[CV]  randomforestclassifier__max_depth=5, randomforestclassifier__max_features=0.5868925178746363, randomforestclassifier__min_samples_leaf=7, randomforestclassifier__min_samples_split=3, randomforestclassifier__n_estimators=84, score=(train=0.668, test=0.689), total=   0.4s\n",
      "[CV] randomforestclassifier__max_depth=5, randomforestclassifier__max_features=0.5868925178746363, randomforestclassifier__min_samples_leaf=7, randomforestclassifier__min_samples_split=3, randomforestclassifier__n_estimators=84 \n",
      "[CV]  randomforestclassifier__max_depth=5, randomforestclassifier__max_features=0.5868925178746363, randomforestclassifier__min_samples_leaf=7, randomforestclassifier__min_samples_split=3, randomforestclassifier__n_estimators=84, score=(train=0.675, test=0.633), total=   0.5s\n",
      "[CV] randomforestclassifier__max_depth=5, randomforestclassifier__max_features=0.5868925178746363, randomforestclassifier__min_samples_leaf=7, randomforestclassifier__min_samples_split=3, randomforestclassifier__n_estimators=84 \n",
      "[CV]  randomforestclassifier__max_depth=5, randomforestclassifier__max_features=0.5868925178746363, randomforestclassifier__min_samples_leaf=7, randomforestclassifier__min_samples_split=3, randomforestclassifier__n_estimators=84, score=(train=0.669, test=0.694), total=   0.5s\n",
      "[CV] randomforestclassifier__max_depth=5, randomforestclassifier__max_features=0.5868925178746363, randomforestclassifier__min_samples_leaf=7, randomforestclassifier__min_samples_split=3, randomforestclassifier__n_estimators=84 \n",
      "[CV]  randomforestclassifier__max_depth=5, randomforestclassifier__max_features=0.5868925178746363, randomforestclassifier__min_samples_leaf=7, randomforestclassifier__min_samples_split=3, randomforestclassifier__n_estimators=84, score=(train=0.671, test=0.659), total=   0.5s\n",
      "[CV] randomforestclassifier__max_depth=5, randomforestclassifier__max_features=0.5868925178746363, randomforestclassifier__min_samples_leaf=7, randomforestclassifier__min_samples_split=3, randomforestclassifier__n_estimators=84 \n",
      "[CV]  randomforestclassifier__max_depth=5, randomforestclassifier__max_features=0.5868925178746363, randomforestclassifier__min_samples_leaf=7, randomforestclassifier__min_samples_split=3, randomforestclassifier__n_estimators=84, score=(train=0.672, test=0.655), total=   0.5s\n",
      "[CV] randomforestclassifier__max_depth=5, randomforestclassifier__max_features=0.5868925178746363, randomforestclassifier__min_samples_leaf=7, randomforestclassifier__min_samples_split=3, randomforestclassifier__n_estimators=84 \n",
      "[CV]  randomforestclassifier__max_depth=5, randomforestclassifier__max_features=0.5868925178746363, randomforestclassifier__min_samples_leaf=7, randomforestclassifier__min_samples_split=3, randomforestclassifier__n_estimators=84, score=(train=0.671, test=0.655), total=   0.5s\n",
      "[CV] randomforestclassifier__max_depth=5, randomforestclassifier__max_features=0.5868925178746363, randomforestclassifier__min_samples_leaf=7, randomforestclassifier__min_samples_split=3, randomforestclassifier__n_estimators=84 \n",
      "[CV]  randomforestclassifier__max_depth=5, randomforestclassifier__max_features=0.5868925178746363, randomforestclassifier__min_samples_leaf=7, randomforestclassifier__min_samples_split=3, randomforestclassifier__n_estimators=84, score=(train=0.670, test=0.649), total=   0.4s\n",
      "[CV] randomforestclassifier__max_depth=5, randomforestclassifier__max_features=0.5868925178746363, randomforestclassifier__min_samples_leaf=7, randomforestclassifier__min_samples_split=3, randomforestclassifier__n_estimators=84 \n",
      "[CV]  randomforestclassifier__max_depth=5, randomforestclassifier__max_features=0.5868925178746363, randomforestclassifier__min_samples_leaf=7, randomforestclassifier__min_samples_split=3, randomforestclassifier__n_estimators=84, score=(train=0.671, test=0.667), total=   0.4s\n",
      "[CV] randomforestclassifier__max_depth=5, randomforestclassifier__max_features=0.40421131474977223, randomforestclassifier__min_samples_leaf=4, randomforestclassifier__min_samples_split=5, randomforestclassifier__n_estimators=164 \n",
      "[CV]  randomforestclassifier__max_depth=5, randomforestclassifier__max_features=0.40421131474977223, randomforestclassifier__min_samples_leaf=4, randomforestclassifier__min_samples_split=5, randomforestclassifier__n_estimators=164, score=(train=0.668, test=0.665), total=   0.6s\n",
      "[CV] randomforestclassifier__max_depth=5, randomforestclassifier__max_features=0.40421131474977223, randomforestclassifier__min_samples_leaf=4, randomforestclassifier__min_samples_split=5, randomforestclassifier__n_estimators=164 \n",
      "[CV]  randomforestclassifier__max_depth=5, randomforestclassifier__max_features=0.40421131474977223, randomforestclassifier__min_samples_leaf=4, randomforestclassifier__min_samples_split=5, randomforestclassifier__n_estimators=164, score=(train=0.677, test=0.657), total=   0.6s\n",
      "[CV] randomforestclassifier__max_depth=5, randomforestclassifier__max_features=0.40421131474977223, randomforestclassifier__min_samples_leaf=4, randomforestclassifier__min_samples_split=5, randomforestclassifier__n_estimators=164 \n",
      "[CV]  randomforestclassifier__max_depth=5, randomforestclassifier__max_features=0.40421131474977223, randomforestclassifier__min_samples_leaf=4, randomforestclassifier__min_samples_split=5, randomforestclassifier__n_estimators=164, score=(train=0.674, test=0.681), total=   0.6s\n",
      "[CV] randomforestclassifier__max_depth=5, randomforestclassifier__max_features=0.40421131474977223, randomforestclassifier__min_samples_leaf=4, randomforestclassifier__min_samples_split=5, randomforestclassifier__n_estimators=164 \n"
     ]
    },
    {
     "name": "stdout",
     "output_type": "stream",
     "text": [
      "[CV]  randomforestclassifier__max_depth=5, randomforestclassifier__max_features=0.40421131474977223, randomforestclassifier__min_samples_leaf=4, randomforestclassifier__min_samples_split=5, randomforestclassifier__n_estimators=164, score=(train=0.678, test=0.633), total=   0.6s\n",
      "[CV] randomforestclassifier__max_depth=5, randomforestclassifier__max_features=0.40421131474977223, randomforestclassifier__min_samples_leaf=4, randomforestclassifier__min_samples_split=5, randomforestclassifier__n_estimators=164 \n",
      "[CV]  randomforestclassifier__max_depth=5, randomforestclassifier__max_features=0.40421131474977223, randomforestclassifier__min_samples_leaf=4, randomforestclassifier__min_samples_split=5, randomforestclassifier__n_estimators=164, score=(train=0.674, test=0.686), total=   0.6s\n",
      "[CV] randomforestclassifier__max_depth=5, randomforestclassifier__max_features=0.40421131474977223, randomforestclassifier__min_samples_leaf=4, randomforestclassifier__min_samples_split=5, randomforestclassifier__n_estimators=164 \n",
      "[CV]  randomforestclassifier__max_depth=5, randomforestclassifier__max_features=0.40421131474977223, randomforestclassifier__min_samples_leaf=4, randomforestclassifier__min_samples_split=5, randomforestclassifier__n_estimators=164, score=(train=0.676, test=0.656), total=   0.6s\n",
      "[CV] randomforestclassifier__max_depth=5, randomforestclassifier__max_features=0.40421131474977223, randomforestclassifier__min_samples_leaf=4, randomforestclassifier__min_samples_split=5, randomforestclassifier__n_estimators=164 \n",
      "[CV]  randomforestclassifier__max_depth=5, randomforestclassifier__max_features=0.40421131474977223, randomforestclassifier__min_samples_leaf=4, randomforestclassifier__min_samples_split=5, randomforestclassifier__n_estimators=164, score=(train=0.675, test=0.651), total=   0.6s\n",
      "[CV] randomforestclassifier__max_depth=5, randomforestclassifier__max_features=0.40421131474977223, randomforestclassifier__min_samples_leaf=4, randomforestclassifier__min_samples_split=5, randomforestclassifier__n_estimators=164 \n",
      "[CV]  randomforestclassifier__max_depth=5, randomforestclassifier__max_features=0.40421131474977223, randomforestclassifier__min_samples_leaf=4, randomforestclassifier__min_samples_split=5, randomforestclassifier__n_estimators=164, score=(train=0.675, test=0.659), total=   0.6s\n",
      "[CV] randomforestclassifier__max_depth=5, randomforestclassifier__max_features=0.40421131474977223, randomforestclassifier__min_samples_leaf=4, randomforestclassifier__min_samples_split=5, randomforestclassifier__n_estimators=164 \n",
      "[CV]  randomforestclassifier__max_depth=5, randomforestclassifier__max_features=0.40421131474977223, randomforestclassifier__min_samples_leaf=4, randomforestclassifier__min_samples_split=5, randomforestclassifier__n_estimators=164, score=(train=0.675, test=0.651), total=   0.6s\n",
      "[CV] randomforestclassifier__max_depth=5, randomforestclassifier__max_features=0.40421131474977223, randomforestclassifier__min_samples_leaf=4, randomforestclassifier__min_samples_split=5, randomforestclassifier__n_estimators=164 \n",
      "[CV]  randomforestclassifier__max_depth=5, randomforestclassifier__max_features=0.40421131474977223, randomforestclassifier__min_samples_leaf=4, randomforestclassifier__min_samples_split=5, randomforestclassifier__n_estimators=164, score=(train=0.674, test=0.664), total=   0.6s\n",
      "[CV] randomforestclassifier__max_depth=20, randomforestclassifier__max_features=0.3567452703281656, randomforestclassifier__min_samples_leaf=9, randomforestclassifier__min_samples_split=4, randomforestclassifier__n_estimators=145 \n",
      "[CV]  randomforestclassifier__max_depth=20, randomforestclassifier__max_features=0.3567452703281656, randomforestclassifier__min_samples_leaf=9, randomforestclassifier__min_samples_split=4, randomforestclassifier__n_estimators=145, score=(train=0.820, test=0.663), total=   0.8s\n",
      "[CV] randomforestclassifier__max_depth=20, randomforestclassifier__max_features=0.3567452703281656, randomforestclassifier__min_samples_leaf=9, randomforestclassifier__min_samples_split=4, randomforestclassifier__n_estimators=145 \n",
      "[CV]  randomforestclassifier__max_depth=20, randomforestclassifier__max_features=0.3567452703281656, randomforestclassifier__min_samples_leaf=9, randomforestclassifier__min_samples_split=4, randomforestclassifier__n_estimators=145, score=(train=0.827, test=0.648), total=   0.8s\n",
      "[CV] randomforestclassifier__max_depth=20, randomforestclassifier__max_features=0.3567452703281656, randomforestclassifier__min_samples_leaf=9, randomforestclassifier__min_samples_split=4, randomforestclassifier__n_estimators=145 \n",
      "[CV]  randomforestclassifier__max_depth=20, randomforestclassifier__max_features=0.3567452703281656, randomforestclassifier__min_samples_leaf=9, randomforestclassifier__min_samples_split=4, randomforestclassifier__n_estimators=145, score=(train=0.824, test=0.680), total=   0.8s\n",
      "[CV] randomforestclassifier__max_depth=20, randomforestclassifier__max_features=0.3567452703281656, randomforestclassifier__min_samples_leaf=9, randomforestclassifier__min_samples_split=4, randomforestclassifier__n_estimators=145 \n",
      "[CV]  randomforestclassifier__max_depth=20, randomforestclassifier__max_features=0.3567452703281656, randomforestclassifier__min_samples_leaf=9, randomforestclassifier__min_samples_split=4, randomforestclassifier__n_estimators=145, score=(train=0.820, test=0.643), total=   0.8s\n",
      "[CV] randomforestclassifier__max_depth=20, randomforestclassifier__max_features=0.3567452703281656, randomforestclassifier__min_samples_leaf=9, randomforestclassifier__min_samples_split=4, randomforestclassifier__n_estimators=145 \n",
      "[CV]  randomforestclassifier__max_depth=20, randomforestclassifier__max_features=0.3567452703281656, randomforestclassifier__min_samples_leaf=9, randomforestclassifier__min_samples_split=4, randomforestclassifier__n_estimators=145, score=(train=0.827, test=0.689), total=   0.8s\n",
      "[CV] randomforestclassifier__max_depth=20, randomforestclassifier__max_features=0.3567452703281656, randomforestclassifier__min_samples_leaf=9, randomforestclassifier__min_samples_split=4, randomforestclassifier__n_estimators=145 \n",
      "[CV]  randomforestclassifier__max_depth=20, randomforestclassifier__max_features=0.3567452703281656, randomforestclassifier__min_samples_leaf=9, randomforestclassifier__min_samples_split=4, randomforestclassifier__n_estimators=145, score=(train=0.821, test=0.648), total=   0.8s\n",
      "[CV] randomforestclassifier__max_depth=20, randomforestclassifier__max_features=0.3567452703281656, randomforestclassifier__min_samples_leaf=9, randomforestclassifier__min_samples_split=4, randomforestclassifier__n_estimators=145 \n",
      "[CV]  randomforestclassifier__max_depth=20, randomforestclassifier__max_features=0.3567452703281656, randomforestclassifier__min_samples_leaf=9, randomforestclassifier__min_samples_split=4, randomforestclassifier__n_estimators=145, score=(train=0.821, test=0.643), total=   0.8s\n",
      "[CV] randomforestclassifier__max_depth=20, randomforestclassifier__max_features=0.3567452703281656, randomforestclassifier__min_samples_leaf=9, randomforestclassifier__min_samples_split=4, randomforestclassifier__n_estimators=145 \n",
      "[CV]  randomforestclassifier__max_depth=20, randomforestclassifier__max_features=0.3567452703281656, randomforestclassifier__min_samples_leaf=9, randomforestclassifier__min_samples_split=4, randomforestclassifier__n_estimators=145, score=(train=0.820, test=0.650), total=   0.8s\n",
      "[CV] randomforestclassifier__max_depth=20, randomforestclassifier__max_features=0.3567452703281656, randomforestclassifier__min_samples_leaf=9, randomforestclassifier__min_samples_split=4, randomforestclassifier__n_estimators=145 \n",
      "[CV]  randomforestclassifier__max_depth=20, randomforestclassifier__max_features=0.3567452703281656, randomforestclassifier__min_samples_leaf=9, randomforestclassifier__min_samples_split=4, randomforestclassifier__n_estimators=145, score=(train=0.824, test=0.659), total=   0.8s\n",
      "[CV] randomforestclassifier__max_depth=20, randomforestclassifier__max_features=0.3567452703281656, randomforestclassifier__min_samples_leaf=9, randomforestclassifier__min_samples_split=4, randomforestclassifier__n_estimators=145 \n",
      "[CV]  randomforestclassifier__max_depth=20, randomforestclassifier__max_features=0.3567452703281656, randomforestclassifier__min_samples_leaf=9, randomforestclassifier__min_samples_split=4, randomforestclassifier__n_estimators=145, score=(train=0.822, test=0.668), total=   0.8s\n",
      "[CV] randomforestclassifier__max_depth=20, randomforestclassifier__max_features=0.1931044994859461, randomforestclassifier__min_samples_leaf=1, randomforestclassifier__min_samples_split=8, randomforestclassifier__n_estimators=137 \n"
     ]
    },
    {
     "name": "stdout",
     "output_type": "stream",
     "text": [
      "[CV]  randomforestclassifier__max_depth=20, randomforestclassifier__max_features=0.1931044994859461, randomforestclassifier__min_samples_leaf=1, randomforestclassifier__min_samples_split=8, randomforestclassifier__n_estimators=137, score=(train=0.968, test=0.663), total=   0.7s\n",
      "[CV] randomforestclassifier__max_depth=20, randomforestclassifier__max_features=0.1931044994859461, randomforestclassifier__min_samples_leaf=1, randomforestclassifier__min_samples_split=8, randomforestclassifier__n_estimators=137 \n",
      "[CV]  randomforestclassifier__max_depth=20, randomforestclassifier__max_features=0.1931044994859461, randomforestclassifier__min_samples_leaf=1, randomforestclassifier__min_samples_split=8, randomforestclassifier__n_estimators=137, score=(train=0.965, test=0.637), total=   0.7s\n",
      "[CV] randomforestclassifier__max_depth=20, randomforestclassifier__max_features=0.1931044994859461, randomforestclassifier__min_samples_leaf=1, randomforestclassifier__min_samples_split=8, randomforestclassifier__n_estimators=137 \n",
      "[CV]  randomforestclassifier__max_depth=20, randomforestclassifier__max_features=0.1931044994859461, randomforestclassifier__min_samples_leaf=1, randomforestclassifier__min_samples_split=8, randomforestclassifier__n_estimators=137, score=(train=0.963, test=0.684), total=   0.8s\n",
      "[CV] randomforestclassifier__max_depth=20, randomforestclassifier__max_features=0.1931044994859461, randomforestclassifier__min_samples_leaf=1, randomforestclassifier__min_samples_split=8, randomforestclassifier__n_estimators=137 \n",
      "[CV]  randomforestclassifier__max_depth=20, randomforestclassifier__max_features=0.1931044994859461, randomforestclassifier__min_samples_leaf=1, randomforestclassifier__min_samples_split=8, randomforestclassifier__n_estimators=137, score=(train=0.961, test=0.640), total=   0.8s\n",
      "[CV] randomforestclassifier__max_depth=20, randomforestclassifier__max_features=0.1931044994859461, randomforestclassifier__min_samples_leaf=1, randomforestclassifier__min_samples_split=8, randomforestclassifier__n_estimators=137 \n",
      "[CV]  randomforestclassifier__max_depth=20, randomforestclassifier__max_features=0.1931044994859461, randomforestclassifier__min_samples_leaf=1, randomforestclassifier__min_samples_split=8, randomforestclassifier__n_estimators=137, score=(train=0.965, test=0.660), total=   0.8s\n",
      "[CV] randomforestclassifier__max_depth=20, randomforestclassifier__max_features=0.1931044994859461, randomforestclassifier__min_samples_leaf=1, randomforestclassifier__min_samples_split=8, randomforestclassifier__n_estimators=137 \n",
      "[CV]  randomforestclassifier__max_depth=20, randomforestclassifier__max_features=0.1931044994859461, randomforestclassifier__min_samples_leaf=1, randomforestclassifier__min_samples_split=8, randomforestclassifier__n_estimators=137, score=(train=0.964, test=0.640), total=   0.7s\n",
      "[CV] randomforestclassifier__max_depth=20, randomforestclassifier__max_features=0.1931044994859461, randomforestclassifier__min_samples_leaf=1, randomforestclassifier__min_samples_split=8, randomforestclassifier__n_estimators=137 \n",
      "[CV]  randomforestclassifier__max_depth=20, randomforestclassifier__max_features=0.1931044994859461, randomforestclassifier__min_samples_leaf=1, randomforestclassifier__min_samples_split=8, randomforestclassifier__n_estimators=137, score=(train=0.962, test=0.623), total=   0.7s\n",
      "[CV] randomforestclassifier__max_depth=20, randomforestclassifier__max_features=0.1931044994859461, randomforestclassifier__min_samples_leaf=1, randomforestclassifier__min_samples_split=8, randomforestclassifier__n_estimators=137 \n",
      "[CV]  randomforestclassifier__max_depth=20, randomforestclassifier__max_features=0.1931044994859461, randomforestclassifier__min_samples_leaf=1, randomforestclassifier__min_samples_split=8, randomforestclassifier__n_estimators=137, score=(train=0.965, test=0.638), total=   0.8s\n",
      "[CV] randomforestclassifier__max_depth=20, randomforestclassifier__max_features=0.1931044994859461, randomforestclassifier__min_samples_leaf=1, randomforestclassifier__min_samples_split=8, randomforestclassifier__n_estimators=137 \n",
      "[CV]  randomforestclassifier__max_depth=20, randomforestclassifier__max_features=0.1931044994859461, randomforestclassifier__min_samples_leaf=1, randomforestclassifier__min_samples_split=8, randomforestclassifier__n_estimators=137, score=(train=0.963, test=0.652), total=   0.8s\n",
      "[CV] randomforestclassifier__max_depth=20, randomforestclassifier__max_features=0.1931044994859461, randomforestclassifier__min_samples_leaf=1, randomforestclassifier__min_samples_split=8, randomforestclassifier__n_estimators=137 \n",
      "[CV]  randomforestclassifier__max_depth=20, randomforestclassifier__max_features=0.1931044994859461, randomforestclassifier__min_samples_leaf=1, randomforestclassifier__min_samples_split=8, randomforestclassifier__n_estimators=137, score=(train=0.961, test=0.654), total=   0.7s\n",
      "[CV] randomforestclassifier__max_depth=20, randomforestclassifier__max_features=0.47586052909118826, randomforestclassifier__min_samples_leaf=2, randomforestclassifier__min_samples_split=8, randomforestclassifier__n_estimators=143 \n",
      "[CV]  randomforestclassifier__max_depth=20, randomforestclassifier__max_features=0.47586052909118826, randomforestclassifier__min_samples_leaf=2, randomforestclassifier__min_samples_split=8, randomforestclassifier__n_estimators=143, score=(train=0.971, test=0.667), total=   1.1s\n",
      "[CV] randomforestclassifier__max_depth=20, randomforestclassifier__max_features=0.47586052909118826, randomforestclassifier__min_samples_leaf=2, randomforestclassifier__min_samples_split=8, randomforestclassifier__n_estimators=143 \n",
      "[CV]  randomforestclassifier__max_depth=20, randomforestclassifier__max_features=0.47586052909118826, randomforestclassifier__min_samples_leaf=2, randomforestclassifier__min_samples_split=8, randomforestclassifier__n_estimators=143, score=(train=0.966, test=0.636), total=   1.1s\n",
      "[CV] randomforestclassifier__max_depth=20, randomforestclassifier__max_features=0.47586052909118826, randomforestclassifier__min_samples_leaf=2, randomforestclassifier__min_samples_split=8, randomforestclassifier__n_estimators=143 \n",
      "[CV]  randomforestclassifier__max_depth=20, randomforestclassifier__max_features=0.47586052909118826, randomforestclassifier__min_samples_leaf=2, randomforestclassifier__min_samples_split=8, randomforestclassifier__n_estimators=143, score=(train=0.966, test=0.687), total=   1.2s\n",
      "[CV] randomforestclassifier__max_depth=20, randomforestclassifier__max_features=0.47586052909118826, randomforestclassifier__min_samples_leaf=2, randomforestclassifier__min_samples_split=8, randomforestclassifier__n_estimators=143 \n",
      "[CV]  randomforestclassifier__max_depth=20, randomforestclassifier__max_features=0.47586052909118826, randomforestclassifier__min_samples_leaf=2, randomforestclassifier__min_samples_split=8, randomforestclassifier__n_estimators=143, score=(train=0.964, test=0.632), total=   1.1s\n",
      "[CV] randomforestclassifier__max_depth=20, randomforestclassifier__max_features=0.47586052909118826, randomforestclassifier__min_samples_leaf=2, randomforestclassifier__min_samples_split=8, randomforestclassifier__n_estimators=143 \n",
      "[CV]  randomforestclassifier__max_depth=20, randomforestclassifier__max_features=0.47586052909118826, randomforestclassifier__min_samples_leaf=2, randomforestclassifier__min_samples_split=8, randomforestclassifier__n_estimators=143, score=(train=0.967, test=0.655), total=   1.1s\n",
      "[CV] randomforestclassifier__max_depth=20, randomforestclassifier__max_features=0.47586052909118826, randomforestclassifier__min_samples_leaf=2, randomforestclassifier__min_samples_split=8, randomforestclassifier__n_estimators=143 \n",
      "[CV]  randomforestclassifier__max_depth=20, randomforestclassifier__max_features=0.47586052909118826, randomforestclassifier__min_samples_leaf=2, randomforestclassifier__min_samples_split=8, randomforestclassifier__n_estimators=143, score=(train=0.967, test=0.638), total=   1.2s\n",
      "[CV] randomforestclassifier__max_depth=20, randomforestclassifier__max_features=0.47586052909118826, randomforestclassifier__min_samples_leaf=2, randomforestclassifier__min_samples_split=8, randomforestclassifier__n_estimators=143 \n",
      "[CV]  randomforestclassifier__max_depth=20, randomforestclassifier__max_features=0.47586052909118826, randomforestclassifier__min_samples_leaf=2, randomforestclassifier__min_samples_split=8, randomforestclassifier__n_estimators=143, score=(train=0.962, test=0.645), total=   1.1s\n",
      "[CV] randomforestclassifier__max_depth=20, randomforestclassifier__max_features=0.47586052909118826, randomforestclassifier__min_samples_leaf=2, randomforestclassifier__min_samples_split=8, randomforestclassifier__n_estimators=143 \n"
     ]
    },
    {
     "name": "stdout",
     "output_type": "stream",
     "text": [
      "[CV]  randomforestclassifier__max_depth=20, randomforestclassifier__max_features=0.47586052909118826, randomforestclassifier__min_samples_leaf=2, randomforestclassifier__min_samples_split=8, randomforestclassifier__n_estimators=143, score=(train=0.970, test=0.628), total=   1.3s\n",
      "[CV] randomforestclassifier__max_depth=20, randomforestclassifier__max_features=0.47586052909118826, randomforestclassifier__min_samples_leaf=2, randomforestclassifier__min_samples_split=8, randomforestclassifier__n_estimators=143 \n",
      "[CV]  randomforestclassifier__max_depth=20, randomforestclassifier__max_features=0.47586052909118826, randomforestclassifier__min_samples_leaf=2, randomforestclassifier__min_samples_split=8, randomforestclassifier__n_estimators=143, score=(train=0.965, test=0.659), total=   1.1s\n",
      "[CV] randomforestclassifier__max_depth=20, randomforestclassifier__max_features=0.47586052909118826, randomforestclassifier__min_samples_leaf=2, randomforestclassifier__min_samples_split=8, randomforestclassifier__n_estimators=143 \n",
      "[CV]  randomforestclassifier__max_depth=20, randomforestclassifier__max_features=0.47586052909118826, randomforestclassifier__min_samples_leaf=2, randomforestclassifier__min_samples_split=8, randomforestclassifier__n_estimators=143, score=(train=0.966, test=0.668), total=   1.1s\n",
      "[CV] randomforestclassifier__max_depth=20, randomforestclassifier__max_features=0.6652890515563054, randomforestclassifier__min_samples_leaf=3, randomforestclassifier__min_samples_split=4, randomforestclassifier__n_estimators=237 \n",
      "[CV]  randomforestclassifier__max_depth=20, randomforestclassifier__max_features=0.6652890515563054, randomforestclassifier__min_samples_leaf=3, randomforestclassifier__min_samples_split=4, randomforestclassifier__n_estimators=237, score=(train=0.980, test=0.664), total=   2.0s\n",
      "[CV] randomforestclassifier__max_depth=20, randomforestclassifier__max_features=0.6652890515563054, randomforestclassifier__min_samples_leaf=3, randomforestclassifier__min_samples_split=4, randomforestclassifier__n_estimators=237 \n",
      "[CV]  randomforestclassifier__max_depth=20, randomforestclassifier__max_features=0.6652890515563054, randomforestclassifier__min_samples_leaf=3, randomforestclassifier__min_samples_split=4, randomforestclassifier__n_estimators=237, score=(train=0.972, test=0.643), total=   2.0s\n",
      "[CV] randomforestclassifier__max_depth=20, randomforestclassifier__max_features=0.6652890515563054, randomforestclassifier__min_samples_leaf=3, randomforestclassifier__min_samples_split=4, randomforestclassifier__n_estimators=237 \n",
      "[CV]  randomforestclassifier__max_depth=20, randomforestclassifier__max_features=0.6652890515563054, randomforestclassifier__min_samples_leaf=3, randomforestclassifier__min_samples_split=4, randomforestclassifier__n_estimators=237, score=(train=0.977, test=0.677), total=   2.0s\n",
      "[CV] randomforestclassifier__max_depth=20, randomforestclassifier__max_features=0.6652890515563054, randomforestclassifier__min_samples_leaf=3, randomforestclassifier__min_samples_split=4, randomforestclassifier__n_estimators=237 \n",
      "[CV]  randomforestclassifier__max_depth=20, randomforestclassifier__max_features=0.6652890515563054, randomforestclassifier__min_samples_leaf=3, randomforestclassifier__min_samples_split=4, randomforestclassifier__n_estimators=237, score=(train=0.975, test=0.628), total=   2.0s\n",
      "[CV] randomforestclassifier__max_depth=20, randomforestclassifier__max_features=0.6652890515563054, randomforestclassifier__min_samples_leaf=3, randomforestclassifier__min_samples_split=4, randomforestclassifier__n_estimators=237 \n",
      "[CV]  randomforestclassifier__max_depth=20, randomforestclassifier__max_features=0.6652890515563054, randomforestclassifier__min_samples_leaf=3, randomforestclassifier__min_samples_split=4, randomforestclassifier__n_estimators=237, score=(train=0.977, test=0.664), total=   2.0s\n",
      "[CV] randomforestclassifier__max_depth=20, randomforestclassifier__max_features=0.6652890515563054, randomforestclassifier__min_samples_leaf=3, randomforestclassifier__min_samples_split=4, randomforestclassifier__n_estimators=237 \n",
      "[CV]  randomforestclassifier__max_depth=20, randomforestclassifier__max_features=0.6652890515563054, randomforestclassifier__min_samples_leaf=3, randomforestclassifier__min_samples_split=4, randomforestclassifier__n_estimators=237, score=(train=0.976, test=0.635), total=   2.2s\n",
      "[CV] randomforestclassifier__max_depth=20, randomforestclassifier__max_features=0.6652890515563054, randomforestclassifier__min_samples_leaf=3, randomforestclassifier__min_samples_split=4, randomforestclassifier__n_estimators=237 \n",
      "[CV]  randomforestclassifier__max_depth=20, randomforestclassifier__max_features=0.6652890515563054, randomforestclassifier__min_samples_leaf=3, randomforestclassifier__min_samples_split=4, randomforestclassifier__n_estimators=237, score=(train=0.975, test=0.648), total=   2.1s\n",
      "[CV] randomforestclassifier__max_depth=20, randomforestclassifier__max_features=0.6652890515563054, randomforestclassifier__min_samples_leaf=3, randomforestclassifier__min_samples_split=4, randomforestclassifier__n_estimators=237 \n",
      "[CV]  randomforestclassifier__max_depth=20, randomforestclassifier__max_features=0.6652890515563054, randomforestclassifier__min_samples_leaf=3, randomforestclassifier__min_samples_split=4, randomforestclassifier__n_estimators=237, score=(train=0.977, test=0.634), total=   2.1s\n",
      "[CV] randomforestclassifier__max_depth=20, randomforestclassifier__max_features=0.6652890515563054, randomforestclassifier__min_samples_leaf=3, randomforestclassifier__min_samples_split=4, randomforestclassifier__n_estimators=237 \n",
      "[CV]  randomforestclassifier__max_depth=20, randomforestclassifier__max_features=0.6652890515563054, randomforestclassifier__min_samples_leaf=3, randomforestclassifier__min_samples_split=4, randomforestclassifier__n_estimators=237, score=(train=0.975, test=0.669), total=   2.1s\n",
      "[CV] randomforestclassifier__max_depth=20, randomforestclassifier__max_features=0.6652890515563054, randomforestclassifier__min_samples_leaf=3, randomforestclassifier__min_samples_split=4, randomforestclassifier__n_estimators=237 \n",
      "[CV]  randomforestclassifier__max_depth=20, randomforestclassifier__max_features=0.6652890515563054, randomforestclassifier__min_samples_leaf=3, randomforestclassifier__min_samples_split=4, randomforestclassifier__n_estimators=237, score=(train=0.974, test=0.662), total=   2.0s\n",
      "[CV] randomforestclassifier__max_depth=15, randomforestclassifier__max_features=0.4899829415320569, randomforestclassifier__min_samples_leaf=9, randomforestclassifier__min_samples_split=2, randomforestclassifier__n_estimators=39 \n",
      "[CV]  randomforestclassifier__max_depth=15, randomforestclassifier__max_features=0.4899829415320569, randomforestclassifier__min_samples_leaf=9, randomforestclassifier__min_samples_split=2, randomforestclassifier__n_estimators=39, score=(train=0.808, test=0.670), total=   0.5s\n",
      "[CV] randomforestclassifier__max_depth=15, randomforestclassifier__max_features=0.4899829415320569, randomforestclassifier__min_samples_leaf=9, randomforestclassifier__min_samples_split=2, randomforestclassifier__n_estimators=39 \n",
      "[CV]  randomforestclassifier__max_depth=15, randomforestclassifier__max_features=0.4899829415320569, randomforestclassifier__min_samples_leaf=9, randomforestclassifier__min_samples_split=2, randomforestclassifier__n_estimators=39, score=(train=0.806, test=0.650), total=   0.5s\n",
      "[CV] randomforestclassifier__max_depth=15, randomforestclassifier__max_features=0.4899829415320569, randomforestclassifier__min_samples_leaf=9, randomforestclassifier__min_samples_split=2, randomforestclassifier__n_estimators=39 \n",
      "[CV]  randomforestclassifier__max_depth=15, randomforestclassifier__max_features=0.4899829415320569, randomforestclassifier__min_samples_leaf=9, randomforestclassifier__min_samples_split=2, randomforestclassifier__n_estimators=39, score=(train=0.805, test=0.673), total=   0.5s\n",
      "[CV] randomforestclassifier__max_depth=15, randomforestclassifier__max_features=0.4899829415320569, randomforestclassifier__min_samples_leaf=9, randomforestclassifier__min_samples_split=2, randomforestclassifier__n_estimators=39 \n",
      "[CV]  randomforestclassifier__max_depth=15, randomforestclassifier__max_features=0.4899829415320569, randomforestclassifier__min_samples_leaf=9, randomforestclassifier__min_samples_split=2, randomforestclassifier__n_estimators=39, score=(train=0.796, test=0.631), total=   0.5s\n",
      "[CV] randomforestclassifier__max_depth=15, randomforestclassifier__max_features=0.4899829415320569, randomforestclassifier__min_samples_leaf=9, randomforestclassifier__min_samples_split=2, randomforestclassifier__n_estimators=39 \n"
     ]
    },
    {
     "name": "stdout",
     "output_type": "stream",
     "text": [
      "[CV]  randomforestclassifier__max_depth=15, randomforestclassifier__max_features=0.4899829415320569, randomforestclassifier__min_samples_leaf=9, randomforestclassifier__min_samples_split=2, randomforestclassifier__n_estimators=39, score=(train=0.805, test=0.671), total=   0.5s\n",
      "[CV] randomforestclassifier__max_depth=15, randomforestclassifier__max_features=0.4899829415320569, randomforestclassifier__min_samples_leaf=9, randomforestclassifier__min_samples_split=2, randomforestclassifier__n_estimators=39 \n",
      "[CV]  randomforestclassifier__max_depth=15, randomforestclassifier__max_features=0.4899829415320569, randomforestclassifier__min_samples_leaf=9, randomforestclassifier__min_samples_split=2, randomforestclassifier__n_estimators=39, score=(train=0.802, test=0.647), total=   0.5s\n",
      "[CV] randomforestclassifier__max_depth=15, randomforestclassifier__max_features=0.4899829415320569, randomforestclassifier__min_samples_leaf=9, randomforestclassifier__min_samples_split=2, randomforestclassifier__n_estimators=39 \n",
      "[CV]  randomforestclassifier__max_depth=15, randomforestclassifier__max_features=0.4899829415320569, randomforestclassifier__min_samples_leaf=9, randomforestclassifier__min_samples_split=2, randomforestclassifier__n_estimators=39, score=(train=0.791, test=0.648), total=   0.5s\n",
      "[CV] randomforestclassifier__max_depth=15, randomforestclassifier__max_features=0.4899829415320569, randomforestclassifier__min_samples_leaf=9, randomforestclassifier__min_samples_split=2, randomforestclassifier__n_estimators=39 \n",
      "[CV]  randomforestclassifier__max_depth=15, randomforestclassifier__max_features=0.4899829415320569, randomforestclassifier__min_samples_leaf=9, randomforestclassifier__min_samples_split=2, randomforestclassifier__n_estimators=39, score=(train=0.798, test=0.651), total=   0.5s\n",
      "[CV] randomforestclassifier__max_depth=15, randomforestclassifier__max_features=0.4899829415320569, randomforestclassifier__min_samples_leaf=9, randomforestclassifier__min_samples_split=2, randomforestclassifier__n_estimators=39 \n",
      "[CV]  randomforestclassifier__max_depth=15, randomforestclassifier__max_features=0.4899829415320569, randomforestclassifier__min_samples_leaf=9, randomforestclassifier__min_samples_split=2, randomforestclassifier__n_estimators=39, score=(train=0.796, test=0.665), total=   0.5s\n",
      "[CV] randomforestclassifier__max_depth=15, randomforestclassifier__max_features=0.4899829415320569, randomforestclassifier__min_samples_leaf=9, randomforestclassifier__min_samples_split=2, randomforestclassifier__n_estimators=39 \n",
      "[CV]  randomforestclassifier__max_depth=15, randomforestclassifier__max_features=0.4899829415320569, randomforestclassifier__min_samples_leaf=9, randomforestclassifier__min_samples_split=2, randomforestclassifier__n_estimators=39, score=(train=0.792, test=0.659), total=   0.5s\n"
     ]
    },
    {
     "name": "stderr",
     "output_type": "stream",
     "text": [
      "[Parallel(n_jobs=1)]: Done 150 out of 150 | elapsed:  2.2min finished\n"
     ]
    },
    {
     "data": {
      "text/plain": [
       "RandomizedSearchCV(cv=10, error_score='raise-deprecating',\n",
       "                   estimator=Pipeline(memory=None,\n",
       "                                      steps=[('ordinalencoder',\n",
       "                                              OrdinalEncoder(cols=None,\n",
       "                                                             drop_invariant=False,\n",
       "                                                             handle_missing='value',\n",
       "                                                             handle_unknown='value',\n",
       "                                                             mapping=None,\n",
       "                                                             return_df=True,\n",
       "                                                             verbose=0)),\n",
       "                                             ('randomforestclassifier',\n",
       "                                              RandomForestClassifier(bootstrap=True,\n",
       "                                                                     class_weight=None,\n",
       "                                                                     criterion='gini',\n",
       "                                                                     max_de...\n",
       "                                        'randomforestclassifier__max_features': <scipy.stats._distn_infrastructure.rv_frozen object at 0x0000020B69AE2B88>,\n",
       "                                        'randomforestclassifier__min_samples_leaf': range(1, 10),\n",
       "                                        'randomforestclassifier__min_samples_split': range(2, 10),\n",
       "                                        'randomforestclassifier__n_estimators': <scipy.stats._distn_infrastructure.rv_frozen object at 0x0000020B69AE2748>},\n",
       "                   pre_dispatch='2*n_jobs', random_state=None, refit=True,\n",
       "                   return_train_score=True, scoring='accuracy', verbose=10)"
      ]
     },
     "execution_count": 14,
     "metadata": {},
     "output_type": "execute_result"
    }
   ],
   "source": [
    "pipeline = make_pipeline(\n",
    "    ce.OrdinalEncoder(),\n",
    "    RandomForestClassifier(random_state=200, n_jobs=-1)\n",
    ")\n",
    "\n",
    "# gonna put this through some cross validation to boost my accuracy a little\n",
    "param_distributions = {\n",
    "    'randomforestclassifier__n_estimators': randint(20, 250),\n",
    "    'randomforestclassifier__max_depth': [5, 10, 15, 20, None],\n",
    "    'randomforestclassifier__max_features': uniform(0, 1),\n",
    "    'randomforestclassifier__min_samples_split': range(2, 10),\n",
    "    'randomforestclassifier__min_samples_leaf': range(1, 10)\n",
    "}\n",
    "\n",
    "search = RandomizedSearchCV(\n",
    "    pipeline,\n",
    "    param_distributions=param_distributions,\n",
    "    n_iter=15,\n",
    "    cv=10,\n",
    "    scoring='accuracy',\n",
    "    verbose=10,\n",
    "    return_train_score=True,\n",
    ")\n",
    "\n",
    "search.fit(X_train, y_train)"
   ]
  },
  {
   "cell_type": "markdown",
   "metadata": {
    "colab_type": "text",
    "id": "8kJXxFpty_CH"
   },
   "source": [
    "## 6.Get your model's validation accuracy\n",
    "\n",
    "> (Multiple times if you try multiple iterations.)"
   ]
  },
  {
   "cell_type": "code",
   "execution_count": 15,
   "metadata": {
    "colab": {},
    "colab_type": "code",
    "id": "7560JKvxy_CJ"
   },
   "outputs": [
    {
     "name": "stdout",
     "output_type": "stream",
     "text": [
      "Validation accuracy: 0.6677551020408163\n"
     ]
    }
   ],
   "source": [
    "# let's make sure we're using the cross-validated model\n",
    "pipeline = search.best_estimator_\n",
    "pipeline.fit(X_train, y_train)\n",
    "print('Validation accuracy:', pipeline.score(X_val, y_val))"
   ]
  },
  {
   "cell_type": "markdown",
   "metadata": {
    "colab_type": "text",
    "id": "YvyYY9tfy_CL"
   },
   "source": [
    "## 7. Get your model's test accuracy\n",
    "\n",
    "> (One time, at the end.)"
   ]
  },
  {
   "cell_type": "code",
   "execution_count": 16,
   "metadata": {
    "colab": {},
    "colab_type": "code",
    "id": "wjV2dfl6y_CL"
   },
   "outputs": [
    {
     "name": "stdout",
     "output_type": "stream",
     "text": [
      "Test accuracy: 0.6272674078408426\n"
     ]
    }
   ],
   "source": [
    "print('Test accuracy:', pipeline.score(X_test, y_test))"
   ]
  },
  {
   "cell_type": "markdown",
   "metadata": {
    "colab_type": "text",
    "id": "xGL5stLvJCn1"
   },
   "source": [
    "## 8. Given a confusion matrix, calculate accuracy, precision, and recall.\n",
    "\n",
    "Imagine this is the confusion matrix for a binary classification model. Use the confusion matrix to calculate the model's accuracy, precision, and recall.\n",
    "\n",
    "<table>\n",
    "  <tr>\n",
    "    <td colspan=\"2\" rowspan=\"2\"></td>\n",
    "    <td colspan=\"2\">Predicted</td>\n",
    "  </tr>\n",
    "  <tr>\n",
    "    <td>Negative</td>\n",
    "    <td>Positive</td>\n",
    "  </tr>\n",
    "  <tr>\n",
    "    <td rowspan=\"2\">Actual</td>\n",
    "    <td>Negative</td>\n",
    "    <td style=\"border: solid\">85</td>\n",
    "    <td style=\"border: solid\">58</td>\n",
    "  </tr>\n",
    "  <tr>\n",
    "    <td>Positive</td>\n",
    "    <td style=\"border: solid\">8</td>\n",
    "    <td style=\"border: solid\"> 36</td>\n",
    "  </tr>\n",
    "</table>"
   ]
  },
  {
   "cell_type": "markdown",
   "metadata": {
    "colab_type": "text",
    "id": "nEvt7NkUJNao"
   },
   "source": [
    "### Calculate accuracy "
   ]
  },
  {
   "cell_type": "code",
   "execution_count": 17,
   "metadata": {
    "colab": {},
    "colab_type": "code",
    "id": "FFszS2A5JJmv"
   },
   "outputs": [
    {
     "name": "stdout",
     "output_type": "stream",
     "text": [
      "Accuracy: 0.6470588235294118\n"
     ]
    }
   ],
   "source": [
    "# accuracy = total correct predictions / total predictions\n",
    "correct_predictions = 85 + 36\n",
    "total_predictions = 85 + 58 + 8 + 36\n",
    "accuracy = correct_predictions / total_predictions\n",
    "print(f'Accuracy: {accuracy}')"
   ]
  },
  {
   "cell_type": "markdown",
   "metadata": {
    "colab_type": "text",
    "id": "XjHTmk8sJO4v"
   },
   "source": [
    "### Calculate precision"
   ]
  },
  {
   "cell_type": "code",
   "execution_count": 18,
   "metadata": {
    "colab": {},
    "colab_type": "code",
    "id": "7qX1gbcMJQS_"
   },
   "outputs": [
    {
     "name": "stdout",
     "output_type": "stream",
     "text": [
      "Precision: 0.3829787234042553\n"
     ]
    }
   ],
   "source": [
    "# precision = correct value predictions of a class / total predictions for class\n",
    "correct_predictions_positive = 36\n",
    "total_predictions_positive = 58 + 36\n",
    "precision = correct_predictions_positive / total_predictions_positive\n",
    "print(f'Precision: {precision}')"
   ]
  },
  {
   "cell_type": "markdown",
   "metadata": {
    "colab_type": "text",
    "id": "pFug3ZKaJQ7A"
   },
   "source": [
    "### Calculate recall"
   ]
  },
  {
   "cell_type": "code",
   "execution_count": 19,
   "metadata": {
    "colab": {},
    "colab_type": "code",
    "id": "L0OKc3JxJR4r"
   },
   "outputs": [
    {
     "name": "stdout",
     "output_type": "stream",
     "text": [
      "Recall: 0.8181818181818182\n"
     ]
    }
   ],
   "source": [
    "# recall = correct for the class / actual for the class\n",
    "actual_positive = 8 + 36\n",
    "recall = correct_predictions_positive / actual_positive\n",
    "print(f'Recall: {recall}')"
   ]
  },
  {
   "cell_type": "code",
   "execution_count": null,
   "metadata": {},
   "outputs": [],
   "source": []
  }
 ],
 "metadata": {
  "colab": {
   "collapsed_sections": [],
   "name": "DS7_Sprint_Challenge_6.ipynb",
   "provenance": [],
   "version": "0.3.2"
  },
  "kernelspec": {
   "display_name": "Python 3",
   "language": "python",
   "name": "python3"
  },
  "language_info": {
   "codemirror_mode": {
    "name": "ipython",
    "version": 3
   },
   "file_extension": ".py",
   "mimetype": "text/x-python",
   "name": "python",
   "nbconvert_exporter": "python",
   "pygments_lexer": "ipython3",
   "version": "3.7.4"
  }
 },
 "nbformat": 4,
 "nbformat_minor": 1
}

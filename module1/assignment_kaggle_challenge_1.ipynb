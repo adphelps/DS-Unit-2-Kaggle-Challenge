{
 "cells": [
  {
   "cell_type": "markdown",
   "metadata": {
    "colab_type": "text",
    "id": "7IXUfiQ2UKj6"
   },
   "source": [
    "Lambda School Data Science, Unit 2: Predictive Modeling\n",
    "\n",
    "# Kaggle Challenge, Module 1\n",
    "\n",
    "## Assignment\n",
    "- [ ] Do train/validate/test split with the Tanzania Waterpumps data.\n",
    "- [ ] Define a function to wrangle train, validate, and test sets in the same way. Clean outliers and engineer features. (For example, [what other columns have zeros and shouldn't?](https://github.com/Quartz/bad-data-guide#zeros-replace-missing-values) What other columns are duplicates, or nearly duplicates? Can you extract the year from date_recorded? Can you engineer new features, such as the number of years from waterpump construction to waterpump inspection?)\n",
    "- [ ] Select features. Use a scikit-learn pipeline to encode categoricals, impute missing values, and fit a decision tree classifier.\n",
    "- [ ] Get your validation accuracy score.\n",
    "- [ ] Get and plot your feature importances.\n",
    "- [ ] Submit your predictions to our Kaggle competition. (Go to our Kaggle InClass competition webpage. Use the blue **Submit Predictions** button to upload your CSV file. Or you can use the Kaggle API to submit your predictions.)\n",
    "- [ ] Commit your notebook to your fork of the GitHub repo.\n",
    "\n",
    "\n",
    "## Stretch Goals\n",
    "\n",
    "### Reading\n",
    "\n",
    "- A Visual Introduction to Machine Learning\n",
    "  - [Part 1: A Decision Tree](http://www.r2d3.us/visual-intro-to-machine-learning-part-1/)\n",
    "  - [Part 2: Bias and Variance](http://www.r2d3.us/visual-intro-to-machine-learning-part-2/)\n",
    "- [Decision Trees: Advantages & Disadvantages](https://christophm.github.io/interpretable-ml-book/tree.html#advantages-2)\n",
    "- [How a Russian mathematician constructed a decision tree — by hand — to solve a medical problem](http://fastml.com/how-a-russian-mathematician-constructed-a-decision-tree-by-hand-to-solve-a-medical-problem/)\n",
    "- [How decision trees work](https://brohrer.github.io/how_decision_trees_work.html)\n",
    "- [Let’s Write a Decision Tree Classifier from Scratch](https://www.youtube.com/watch?v=LDRbO9a6XPU) — _Don’t worry about understanding the code, just get introduced to the concepts. This 10 minute video has excellent diagrams and explanations._\n",
    "- [Random Forests for Complete Beginners: The definitive guide to Random Forests and Decision Trees](https://victorzhou.com/blog/intro-to-random-forests/)\n",
    "\n",
    "\n",
    "### Doing\n",
    "- [ ] Add your own stretch goal(s) !\n",
    "- [ ] Try other [scikit-learn imputers](https://scikit-learn.org/stable/modules/impute.html).\n",
    "- [ ] Try other [scikit-learn scalers](https://scikit-learn.org/stable/modules/preprocessing.html).\n",
    "- [ ] Make exploratory visualizations and share on Slack.\n",
    "\n",
    "\n",
    "#### Exploratory visualizations\n",
    "\n",
    "Visualize the relationships between feature(s) and target. I recommend you do this with your training set, after splitting your data. \n",
    "\n",
    "For this problem, you may want to create a new column to represent the target as a number, 0 or 1. For example:\n",
    "\n",
    "```python\n",
    "train['functional'] = (train['status_group']=='functional').astype(int)\n",
    "```\n",
    "\n",
    "\n",
    "\n",
    "You can try [Seaborn \"Categorical estimate\" plots](https://seaborn.pydata.org/tutorial/categorical.html) for features with reasonably few unique values. (With too many unique values, the plot is unreadable.)\n",
    "\n",
    "- Categorical features. (If there are too many unique values, you can replace less frequent values with \"OTHER.\")\n",
    "- Numeric features. (If there are too many unique values, you can [bin with pandas cut / qcut functions](https://pandas.pydata.org/pandas-docs/stable/getting_started/basics.html?highlight=qcut#discretization-and-quantiling).)\n",
    "\n",
    "You can try [Seaborn linear model plots](https://seaborn.pydata.org/tutorial/regression.html) with numeric features. For this problem, you may want to use the parameter `logistic=True`\n",
    "\n",
    "You do _not_ need to use Seaborn, but it's nice because it includes confidence intervals to visualize uncertainty.\n",
    "\n",
    "#### High-cardinality categoricals\n",
    "\n",
    "This code from a previous assignment demonstrates how to replace less frequent values with 'OTHER'\n",
    "\n",
    "```python\n",
    "# Reduce cardinality for NEIGHBORHOOD feature ...\n",
    "\n",
    "# Get a list of the top 10 neighborhoods\n",
    "top10 = train['NEIGHBORHOOD'].value_counts()[:10].index\n",
    "\n",
    "# At locations where the neighborhood is NOT in the top 10,\n",
    "# replace the neighborhood with 'OTHER'\n",
    "train.loc[~train['NEIGHBORHOOD'].isin(top10), 'NEIGHBORHOOD'] = 'OTHER'\n",
    "test.loc[~test['NEIGHBORHOOD'].isin(top10), 'NEIGHBORHOOD'] = 'OTHER'\n",
    "```\n",
    "\n"
   ]
  },
  {
   "cell_type": "code",
   "execution_count": 1,
   "metadata": {
    "colab": {},
    "colab_type": "code",
    "id": "o9eSnDYhUGD7"
   },
   "outputs": [],
   "source": [
    "# If you're in Colab...\n",
    "import os, sys\n",
    "in_colab = 'google.colab' in sys.modules\n",
    "\n",
    "if in_colab:\n",
    "    # Install required python packages:\n",
    "    # category_encoders, version >= 2.0\n",
    "    # pandas-profiling, version >= 2.0\n",
    "    # plotly, version >= 4.0\n",
    "    !pip install --upgrade category_encoders pandas-profiling plotly\n",
    "    \n",
    "    # Pull files from Github repo\n",
    "    os.chdir('/content')\n",
    "    !git init .\n",
    "    !git remote add origin https://github.com/LambdaSchool/DS-Unit-2-Kaggle-Challenge.git\n",
    "    !git pull origin master\n",
    "    \n",
    "    # Change into directory for module\n",
    "    os.chdir('module1')"
   ]
  },
  {
   "cell_type": "code",
   "execution_count": 2,
   "metadata": {
    "colab": {},
    "colab_type": "code",
    "id": "QJBD4ruICm1m"
   },
   "outputs": [
    {
     "data": {
      "text/plain": [
       "((59400, 41), (14358, 40))"
      ]
     },
     "execution_count": 2,
     "metadata": {},
     "output_type": "execute_result"
    }
   ],
   "source": [
    "import pandas as pd\n",
    "from sklearn.model_selection import train_test_split\n",
    "\n",
    "train = pd.merge(pd.read_csv('../data/tanzania/train_features.csv'), \n",
    "                 pd.read_csv('../data/tanzania/train_labels.csv'))\n",
    "test = pd.read_csv('../data/tanzania/test_features.csv')\n",
    "sample_submission = pd.read_csv('../data/tanzania/sample_submission.csv')\n",
    "\n",
    "train.shape, test.shape"
   ]
  },
  {
   "cell_type": "code",
   "execution_count": 3,
   "metadata": {},
   "outputs": [
    {
     "data": {
      "text/plain": [
       "((47520, 41), (11880, 41), (14358, 40))"
      ]
     },
     "execution_count": 3,
     "metadata": {},
     "output_type": "execute_result"
    }
   ],
   "source": [
    "import numpy as np\n",
    "import matplotlib.pyplot as plt\n",
    "import seaborn as sns\n",
    "%matplotlib inline\n",
    "\n",
    "# Do train/validate/test split with the Tanzania Waterpumps data.\n",
    "train, val = train_test_split(train, train_size=.8, test_size=.2, stratify=train['status_group'], random_state=42)\n",
    "\n",
    "train.shape, val.shape, test.shape"
   ]
  },
  {
   "cell_type": "code",
   "execution_count": 4,
   "metadata": {},
   "outputs": [
    {
     "data": {
      "text/plain": [
       "-2.000000e-08    1442\n",
       "-2.519950e+00       2\n",
       "-2.489378e+00       2\n",
       "-6.991294e+00       2\n",
       "-7.056923e+00       2\n",
       "Name: latitude, dtype: int64"
      ]
     },
     "execution_count": 4,
     "metadata": {},
     "output_type": "execute_result"
    }
   ],
   "source": [
    "train.latitude.value_counts().head()"
   ]
  },
  {
   "cell_type": "code",
   "execution_count": 5,
   "metadata": {},
   "outputs": [
    {
     "data": {
      "text/plain": [
       "0.000000     1442\n",
       "39.095684       2\n",
       "39.092062       2\n",
       "37.543401       2\n",
       "39.103752       2\n",
       "Name: longitude, dtype: int64"
      ]
     },
     "execution_count": 5,
     "metadata": {},
     "output_type": "execute_result"
    }
   ],
   "source": [
    "train.longitude.value_counts().head()"
   ]
  },
  {
   "cell_type": "code",
   "execution_count": 6,
   "metadata": {},
   "outputs": [],
   "source": [
    "#  Define a function to wrangle train, validate, and test sets in the same way. Clean outliers and engineer features. \n",
    "#  (For example, what other columns have zeros and shouldn't? What other columns are duplicates, or nearly duplicates? \n",
    "#  Can you extract the year from date_recorded? Can you engineer new features, such as the number of years from waterpump \n",
    "#  construction to waterpump inspection?)\n",
    "\n",
    "def wrangle(X):\n",
    "    '''Wrangle train, validate and test sets'''\n",
    "    \n",
    "    # this will prevent SettingWithCopyWarning\n",
    "    X = X.copy()\n",
    "    \n",
    "    # latitude and longitude have some missing values coded as 0s (or very small near-zeros.)\n",
    "    # I'm going to replace those with nulls for now and later decide how to impute them\n",
    "    X['latitude'] = X['latitude'].replace(-2e-08, 0)\n",
    "    \n",
    "    cols_with_zeros = ['latitude', 'longitude', 'construction_year', 'gps_height',\n",
    "                      ]\n",
    "    for col in cols_with_zeros:\n",
    "        X[col] = X[col].replace(0, np.nan)\n",
    "        \n",
    "\n",
    "    # quantity and quantity_group are the same data, so we don't need both    \n",
    "    # recorded_by only has one value, which gives us literally no variance\n",
    "    # num_private doesnt seem to help the model\n",
    "    # wpt_name has very high cardinality\n",
    "    # extraction_type_group and extraction_type are both similar to extraction_type_class\n",
    "    # payment_type is similar to payment\n",
    "    # water_quality is similar to quality_group\n",
    "    # basin and scheme_management don't help the model\n",
    "    # waterpoint_type_gruop is similar to waterpoint_type\n",
    "    # quantity_group is a duplicate of quantity\n",
    "    # installer has very high cardinality\n",
    "    X = X.drop(columns=['quantity_group', 'recorded_by', 'num_private', 'wpt_name',\n",
    "              'extraction_type_group', 'extraction_type', 'payment_type', 'water_quality',\n",
    "              'basin', 'scheme_management', 'waterpoint_type_group', 'installer'])\n",
    "    \n",
    "    return X\n",
    "\n",
    "train = wrangle(train)\n",
    "val = wrangle(val)\n",
    "test = wrangle(test)"
   ]
  },
  {
   "cell_type": "code",
   "execution_count": 7,
   "metadata": {},
   "outputs": [
    {
     "name": "stdout",
     "output_type": "stream",
     "text": [
      "['id', 'amount_tsh', 'gps_height', 'longitude', 'latitude', 'region_code', 'district_code', 'population', 'construction_year', 'region', 'public_meeting', 'permit', 'extraction_type_class', 'management', 'management_group', 'payment', 'quality_group', 'quantity', 'source', 'source_type', 'source_class', 'waterpoint_type']\n"
     ]
    }
   ],
   "source": [
    "#  Select features. Use a scikit-learn pipeline to encode categoricals, impute missing values, and fit a decision tree classifier.\n",
    "\n",
    "# status_group is what we want to predict\n",
    "target = 'status_group'\n",
    "\n",
    "# we can't train our model using the target, that'd be silly\n",
    "train_features = train.drop(columns=[target])\n",
    "\n",
    "# a list of our numeric features\n",
    "numeric_features = train_features.select_dtypes(include='number').columns.tolist()\n",
    "\n",
    "# now a series with the cardinality of our non-numeric features\n",
    "cardinality = train_features.select_dtypes(exclude='number').nunique()\n",
    "\n",
    "# a list of all categorical features with low cardinality\n",
    "categorical_features = cardinality[cardinality <= 30].index.tolist()\n",
    "\n",
    "# Slap those lists together\n",
    "features = numeric_features + categorical_features\n",
    "print(features)"
   ]
  },
  {
   "cell_type": "code",
   "execution_count": 8,
   "metadata": {},
   "outputs": [],
   "source": [
    "# time to arrange our data in to a features matrix and target vector\n",
    "\n",
    "X_train = train[features]\n",
    "y_train = train[target]\n",
    "X_val = val[features]\n",
    "y_val = val[target]\n",
    "X_test = test[features]"
   ]
  },
  {
   "cell_type": "code",
   "execution_count": 9,
   "metadata": {},
   "outputs": [
    {
     "name": "stdout",
     "output_type": "stream",
     "text": [
      "Training Accuracy 0.7565656565656566\n",
      "Validation Accuracy 0.7382154882154882\n"
     ]
    }
   ],
   "source": [
    "import category_encoders as ce\n",
    "from sklearn.impute import SimpleImputer\n",
    "from sklearn.pipeline import make_pipeline\n",
    "from sklearn.tree import DecisionTreeClassifier\n",
    "\n",
    "dt = make_pipeline(\n",
    "    ce.OneHotEncoder(use_cat_names=True),\n",
    "    SimpleImputer(),\n",
    "    DecisionTreeClassifier(min_samples_leaf=3, max_depth=10, random_state=42)\n",
    ")\n",
    "\n",
    "dt.fit(X_train, y_train)\n",
    "\n",
    "#  Get your validation accuracy score.\n",
    "print('Training Accuracy', dt.score(X_train, y_train))\n",
    "print('Validation Accuracy', dt.score(X_val, y_val))"
   ]
  },
  {
   "cell_type": "code",
   "execution_count": 10,
   "metadata": {},
   "outputs": [
    {
     "data": {
      "text/plain": [
       "<matplotlib.axes._subplots.AxesSubplot at 0x146b6e53448>"
      ]
     },
     "execution_count": 10,
     "metadata": {},
     "output_type": "execute_result"
    },
    {
     "data": {
      "image/png": "[encoded data removed]",
      "text/plain": [
       "<Figure size 432x288 with 1 Axes>"
      ]
     },
     "metadata": {
      "needs_background": "light"
     },
     "output_type": "display_data"
    }
   ],
   "source": [
    "#  Get and plot your feature importances.\n",
    "\n",
    "model = dt.named_steps['decisiontreeclassifier']\n",
    "encoder = dt.named_steps['onehotencoder']\n",
    "encoded_columns = encoder.transform(X_train).columns\n",
    "importances = pd.Series(model.feature_importances_, encoded_columns)\n",
    "importances.sort_values().plot.barh(color='grey')"
   ]
  },
  {
   "cell_type": "code",
   "execution_count": 11,
   "metadata": {},
   "outputs": [
    {
     "data": {
      "text/plain": [
       "management_other                               0.000000\n",
       "extraction_type_class_rope pump                0.000000\n",
       "extraction_type_class_wind-powered             0.000000\n",
       "management_parastatal                          0.000000\n",
       "management_unknown                             0.000000\n",
       "waterpoint_type_cattle trough                  0.000000\n",
       "management_other - school                      0.000000\n",
       "management_trust                               0.000000\n",
       "management_group_parastatal                    0.000000\n",
       "management_group_other                         0.000000\n",
       "payment_pay annually                           0.000000\n",
       "payment_other                                  0.000000\n",
       "permit_False                                   0.000000\n",
       "quality_group_fluoride                         0.000000\n",
       "source_shallow well                            0.000000\n",
       "source_machine dbh                             0.000000\n",
       "source_hand dtw                                0.000000\n",
       "source_lake                                    0.000000\n",
       "source_dam                                     0.000000\n",
       "source_other                                   0.000000\n",
       "source_unknown                                 0.000000\n",
       "source_type_rainwater harvesting               0.000000\n",
       "source_type_dam                                0.000000\n",
       "source_type_other                              0.000000\n",
       "source_class_unknown                           0.000000\n",
       "quality_group_colored                          0.000000\n",
       "region_Dar es Salaam                           0.000000\n",
       "waterpoint_type_dam                            0.000000\n",
       "region_Rukwa                                   0.000000\n",
       "region_Mara                                    0.000000\n",
       "                                                 ...   \n",
       "source_type_borehole                           0.002668\n",
       "source_class_groundwater                       0.003852\n",
       "quality_group_milky                            0.003953\n",
       "quantity_enough                                0.004051\n",
       "management_company                             0.004118\n",
       "quality_group_unknown                          0.004186\n",
       "payment_pay per bucket                         0.004396\n",
       "public_meeting_True                            0.004490\n",
       "quantity_unknown                               0.004702\n",
       "extraction_type_class_submersible              0.005037\n",
       "source_spring                                  0.005599\n",
       "public_meeting_nan                             0.005899\n",
       "id                                             0.006338\n",
       "management_private operator                    0.006849\n",
       "quantity_insufficient                          0.007203\n",
       "extraction_type_class_handpump                 0.007999\n",
       "extraction_type_class_gravity                  0.008357\n",
       "region_Shinyanga                               0.010752\n",
       "extraction_type_class_other                    0.010788\n",
       "population                                     0.010926\n",
       "region_code                                    0.018966\n",
       "district_code                                  0.020303\n",
       "gps_height                                     0.032361\n",
       "waterpoint_type_communal standpipe multiple    0.036217\n",
       "amount_tsh                                     0.042115\n",
       "latitude                                       0.044040\n",
       "longitude                                      0.061069\n",
       "construction_year                              0.075410\n",
       "waterpoint_type_other                          0.183684\n",
       "quantity_dry                                   0.337037\n",
       "Length: 105, dtype: float64"
      ]
     },
     "execution_count": 11,
     "metadata": {},
     "output_type": "execute_result"
    }
   ],
   "source": [
    "importances.sort_values()"
   ]
  },
  {
   "cell_type": "code",
   "execution_count": 18,
   "metadata": {},
   "outputs": [],
   "source": [
    "#  Submit your predictions to our Kaggle competition. (Go to our Kaggle InClass competition webpage. Use the blue Submit Predictions button to upload your CSV file. Or you can use the Kaggle API to submit your predictions.)\n",
    "y_pred = dt.predict(X_test)\n",
    "submission = sample_submission.copy()\n",
    "submission['status_group'] = y_pred\n",
    "submission.to_csv('submission-01.csv', index=False)"
   ]
  },
  {
   "cell_type": "code",
   "execution_count": null,
   "metadata": {
    "colab": {},
    "colab_type": "code",
    "id": "2Amxyx3xphbb"
   },
   "outputs": [],
   "source": [
    "#  Commit your notebook to your fork of the GitHub repo."
   ]
  }
 ],
 "metadata": {
  "colab": {
   "collapsed_sections": [],
   "name": "assignment_kaggle_challenge_1.ipynb",
   "provenance": [],
   "version": "0.3.2"
  },
  "kernelspec": {
   "display_name": "Python 3",
   "language": "python",
   "name": "python3"
  },
  "language_info": {
   "codemirror_mode": {
    "name": "ipython",
    "version": 3
   },
   "file_extension": ".py",
   "mimetype": "text/x-python",
   "name": "python",
   "nbconvert_exporter": "python",
   "pygments_lexer": "ipython3",
   "version": "3.7.4"
  }
 },
 "nbformat": 4,
 "nbformat_minor": 1
}
